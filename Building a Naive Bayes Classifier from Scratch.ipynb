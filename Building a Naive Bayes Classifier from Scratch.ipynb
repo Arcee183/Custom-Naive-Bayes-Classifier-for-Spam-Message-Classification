{
 "cells": [
  {
   "cell_type": "markdown",
   "id": "fa555119-f11e-4b2e-a0fb-79be715a23dd",
   "metadata": {},
   "source": [
    "# Building a Naive Bayes Classifier from Scratch"
   ]
  },
  {
   "cell_type": "markdown",
   "id": "6bec934f-477f-4f8d-8482-5d0249172f3c",
   "metadata": {},
   "source": [
    "I am going to build a Naive Bayes classifier from scratch for this project. This classifier will be used to classify text messages as either spam or ham (safe). To compare the performance of my classifier, I will use the MultinomialNB classifier from scikit-learn."
   ]
  },
  {
   "cell_type": "markdown",
   "id": "a77c1a09-7908-49c2-a1f1-64ddceb2b674",
   "metadata": {},
   "source": [
    "## Exploring the Dataset"
   ]
  },
  {
   "cell_type": "markdown",
   "id": "8e2b3e4c-fcd5-47dc-ac32-ce3fc48a71da",
   "metadata": {},
   "source": [
    "We will start by importing the necessary libraries to perform our data analysis with."
   ]
  },
  {
   "cell_type": "code",
   "execution_count": 1,
   "id": "361bfb8c-1a03-463a-a081-3057ea908888",
   "metadata": {},
   "outputs": [],
   "source": [
    "import numpy as np\n",
    "import pandas as pd\n",
    "import matplotlib.pyplot as plt\n",
    "import seaborn as sns\n",
    "\n",
    "pd.options.display.max_colwidth = None"
   ]
  },
  {
   "cell_type": "markdown",
   "id": "de2b7c67-4dd3-48de-b1ff-f3f95eefe901",
   "metadata": {},
   "source": [
    "Next we will explore our dataset using the read_csv function."
   ]
  },
  {
   "cell_type": "code",
   "execution_count": 2,
   "id": "09605d05-6684-48a4-a28b-66f6c6b82356",
   "metadata": {},
   "outputs": [],
   "source": [
    "messages = pd.read_csv(\"SMSSpamCollection\", sep=\"\\t\", header=None, names=[\"Label\", \"SMS\"])"
   ]
  },
  {
   "cell_type": "code",
   "execution_count": 3,
   "id": "3f514090-e687-4dde-8abd-cd2996aa55c2",
   "metadata": {},
   "outputs": [
    {
     "data": {
      "text/html": [
       "<div>\n",
       "<style scoped>\n",
       "    .dataframe tbody tr th:only-of-type {\n",
       "        vertical-align: middle;\n",
       "    }\n",
       "\n",
       "    .dataframe tbody tr th {\n",
       "        vertical-align: top;\n",
       "    }\n",
       "\n",
       "    .dataframe thead th {\n",
       "        text-align: right;\n",
       "    }\n",
       "</style>\n",
       "<table border=\"1\" class=\"dataframe\">\n",
       "  <thead>\n",
       "    <tr style=\"text-align: right;\">\n",
       "      <th></th>\n",
       "      <th>Label</th>\n",
       "      <th>SMS</th>\n",
       "    </tr>\n",
       "  </thead>\n",
       "  <tbody>\n",
       "    <tr>\n",
       "      <th>0</th>\n",
       "      <td>ham</td>\n",
       "      <td>Go until jurong point, crazy.. Available only in bugis n great world la e buffet... Cine there got amore wat...</td>\n",
       "    </tr>\n",
       "    <tr>\n",
       "      <th>1</th>\n",
       "      <td>ham</td>\n",
       "      <td>Ok lar... Joking wif u oni...</td>\n",
       "    </tr>\n",
       "    <tr>\n",
       "      <th>2</th>\n",
       "      <td>spam</td>\n",
       "      <td>Free entry in 2 a wkly comp to win FA Cup final tkts 21st May 2005. Text FA to 87121 to receive entry question(std txt rate)T&amp;C's apply 08452810075over18's</td>\n",
       "    </tr>\n",
       "    <tr>\n",
       "      <th>3</th>\n",
       "      <td>ham</td>\n",
       "      <td>U dun say so early hor... U c already then say...</td>\n",
       "    </tr>\n",
       "    <tr>\n",
       "      <th>4</th>\n",
       "      <td>ham</td>\n",
       "      <td>Nah I don't think he goes to usf, he lives around here though</td>\n",
       "    </tr>\n",
       "  </tbody>\n",
       "</table>\n",
       "</div>"
      ],
      "text/plain": [
       "  Label  \\\n",
       "0   ham   \n",
       "1   ham   \n",
       "2  spam   \n",
       "3   ham   \n",
       "4   ham   \n",
       "\n",
       "                                                                                                                                                           SMS  \n",
       "0                                              Go until jurong point, crazy.. Available only in bugis n great world la e buffet... Cine there got amore wat...  \n",
       "1                                                                                                                                Ok lar... Joking wif u oni...  \n",
       "2  Free entry in 2 a wkly comp to win FA Cup final tkts 21st May 2005. Text FA to 87121 to receive entry question(std txt rate)T&C's apply 08452810075over18's  \n",
       "3                                                                                                            U dun say so early hor... U c already then say...  \n",
       "4                                                                                                Nah I don't think he goes to usf, he lives around here though  "
      ]
     },
     "execution_count": 3,
     "metadata": {},
     "output_type": "execute_result"
    }
   ],
   "source": [
    "messages.head()"
   ]
  },
  {
   "cell_type": "code",
   "execution_count": 4,
   "id": "841059e6-c3dc-4610-97a4-b0ab537ff19b",
   "metadata": {},
   "outputs": [
    {
     "name": "stdout",
     "output_type": "stream",
     "text": [
      "<class 'pandas.core.frame.DataFrame'>\n",
      "RangeIndex: 5572 entries, 0 to 5571\n",
      "Data columns (total 2 columns):\n",
      " #   Column  Non-Null Count  Dtype \n",
      "---  ------  --------------  ----- \n",
      " 0   Label   5572 non-null   object\n",
      " 1   SMS     5572 non-null   object\n",
      "dtypes: object(2)\n",
      "memory usage: 87.2+ KB\n"
     ]
    }
   ],
   "source": [
    "messages.info()"
   ]
  },
  {
   "cell_type": "code",
   "execution_count": 5,
   "id": "5e3ddf20-ab4d-43e4-bd91-37be8cd18972",
   "metadata": {},
   "outputs": [
    {
     "data": {
      "text/html": [
       "<div>\n",
       "<style scoped>\n",
       "    .dataframe tbody tr th:only-of-type {\n",
       "        vertical-align: middle;\n",
       "    }\n",
       "\n",
       "    .dataframe tbody tr th {\n",
       "        vertical-align: top;\n",
       "    }\n",
       "\n",
       "    .dataframe thead th {\n",
       "        text-align: right;\n",
       "    }\n",
       "</style>\n",
       "<table border=\"1\" class=\"dataframe\">\n",
       "  <thead>\n",
       "    <tr style=\"text-align: right;\">\n",
       "      <th></th>\n",
       "      <th>Label</th>\n",
       "      <th>SMS</th>\n",
       "    </tr>\n",
       "  </thead>\n",
       "  <tbody>\n",
       "    <tr>\n",
       "      <th>count</th>\n",
       "      <td>5572</td>\n",
       "      <td>5572</td>\n",
       "    </tr>\n",
       "    <tr>\n",
       "      <th>unique</th>\n",
       "      <td>2</td>\n",
       "      <td>5169</td>\n",
       "    </tr>\n",
       "    <tr>\n",
       "      <th>top</th>\n",
       "      <td>ham</td>\n",
       "      <td>Sorry, I'll call later</td>\n",
       "    </tr>\n",
       "    <tr>\n",
       "      <th>freq</th>\n",
       "      <td>4825</td>\n",
       "      <td>30</td>\n",
       "    </tr>\n",
       "  </tbody>\n",
       "</table>\n",
       "</div>"
      ],
      "text/plain": [
       "       Label                     SMS\n",
       "count   5572                    5572\n",
       "unique     2                    5169\n",
       "top      ham  Sorry, I'll call later\n",
       "freq    4825                      30"
      ]
     },
     "execution_count": 5,
     "metadata": {},
     "output_type": "execute_result"
    }
   ],
   "source": [
    "messages.describe(include=\"all\")"
   ]
  },
  {
   "cell_type": "code",
   "execution_count": 6,
   "id": "f8768228-0f76-4d12-b2c3-26fb198358ec",
   "metadata": {},
   "outputs": [
    {
     "data": {
      "text/plain": [
       "Label\n",
       "ham     86.593683\n",
       "spam    13.406317\n",
       "Name: proportion, dtype: float64"
      ]
     },
     "execution_count": 6,
     "metadata": {},
     "output_type": "execute_result"
    }
   ],
   "source": [
    "messages[\"Label\"].value_counts(normalize=True) * 100"
   ]
  },
  {
   "cell_type": "markdown",
   "id": "bc0d35c9-2023-477d-b143-275700e8451c",
   "metadata": {},
   "source": [
    "The messages dataset consists of 5,572 messages of which nearly 87% are ham messages and the remaining 13% are spam messages. There are no missing values in the dataset. Each observation consists of a label (ham or spam) and the message itself, which is a string of words. According to the data distribution and statistics there are only 5,169 unique messages and the most frequent message is: \"Sorry, I'll call later\". This message occurs 30 times."
   ]
  },
  {
   "cell_type": "markdown",
   "id": "0d7b6b82-9b59-4053-ad78-5401a351ca50",
   "metadata": {},
   "source": [
    "It could be interesting to verify the duplicate messages and understand if the labels vary. If the duplicate messages do not add additional information, it would be best to remove them."
   ]
  },
  {
   "cell_type": "markdown",
   "id": "f1969a72-324c-4ed9-ab91-951e2fa01117",
   "metadata": {},
   "source": [
    "## Understanding Duplicates"
   ]
  },
  {
   "cell_type": "code",
   "execution_count": 7,
   "id": "2c471704-421e-4114-b720-78a8e5c903d6",
   "metadata": {},
   "outputs": [
    {
     "data": {
      "text/plain": [
       "403"
      ]
     },
     "execution_count": 7,
     "metadata": {},
     "output_type": "execute_result"
    }
   ],
   "source": [
    "sum(messages.duplicated())"
   ]
  },
  {
   "cell_type": "code",
   "execution_count": 8,
   "id": "ddf2fcec-760a-49eb-aad5-d917fc4585f7",
   "metadata": {},
   "outputs": [
    {
     "data": {
      "text/plain": [
       "403"
      ]
     },
     "execution_count": 8,
     "metadata": {},
     "output_type": "execute_result"
    }
   ],
   "source": [
    "sum(messages.duplicated(subset=[\"SMS\"]))"
   ]
  },
  {
   "cell_type": "markdown",
   "id": "0b776111-2b0b-4c6b-aef0-32c7416b93cc",
   "metadata": {},
   "source": [
    "The above two lines of code tell me that each duplicate messages in the dataset is a duplicate in terms of the label and the message combination. This is because running the duplicated method with or without the subset specification returns the same number of duplicates."
   ]
  },
  {
   "cell_type": "markdown",
   "id": "3988ca74-720d-4c16-b6b2-6d9f5dbc5204",
   "metadata": {},
   "source": [
    "In order to verify this claim, we are going to review all duplicate messages and verify how many labels they have."
   ]
  },
  {
   "cell_type": "code",
   "execution_count": 9,
   "id": "893a1e31-7482-4213-a756-5909d1fe6134",
   "metadata": {},
   "outputs": [
    {
     "name": "stdout",
     "output_type": "stream",
     "text": [
      "All duplicate messages have the same label\n"
     ]
    }
   ],
   "source": [
    "for m in messages.loc[messages.duplicated(), \"SMS\"]:\n",
    "    if messages.loc[messages[\"SMS\"] == m, \"Label\"].unique().size != 1:\n",
    "        print(\"More than 1 label found\")\n",
    "        break\n",
    "else:\n",
    "    print(\"All duplicate messages have the same label\")"
   ]
  },
  {
   "cell_type": "markdown",
   "id": "ade35050-eff8-47fd-acef-86a9474001ff",
   "metadata": {},
   "source": [
    "The above code verifies that each duplicate message has the same label as the original message. We can now confidently remove all duplicate messages from the dataset, since they do not add any additional information."
   ]
  },
  {
   "cell_type": "code",
   "execution_count": 10,
   "id": "5dbbe52d-7e80-42c6-b12f-30c109a9a46b",
   "metadata": {},
   "outputs": [
    {
     "data": {
      "text/plain": [
       "(5169, 2)"
      ]
     },
     "execution_count": 10,
     "metadata": {},
     "output_type": "execute_result"
    }
   ],
   "source": [
    "messages_clean = messages.drop_duplicates(ignore_index=True)\n",
    "messages_clean.shape"
   ]
  },
  {
   "cell_type": "code",
   "execution_count": 11,
   "id": "62d4c604-015d-47eb-aaa5-9a491c5c59c5",
   "metadata": {},
   "outputs": [
    {
     "data": {
      "text/html": [
       "<div>\n",
       "<style scoped>\n",
       "    .dataframe tbody tr th:only-of-type {\n",
       "        vertical-align: middle;\n",
       "    }\n",
       "\n",
       "    .dataframe tbody tr th {\n",
       "        vertical-align: top;\n",
       "    }\n",
       "\n",
       "    .dataframe thead th {\n",
       "        text-align: right;\n",
       "    }\n",
       "</style>\n",
       "<table border=\"1\" class=\"dataframe\">\n",
       "  <thead>\n",
       "    <tr style=\"text-align: right;\">\n",
       "      <th></th>\n",
       "      <th>Label</th>\n",
       "      <th>SMS</th>\n",
       "    </tr>\n",
       "  </thead>\n",
       "  <tbody>\n",
       "    <tr>\n",
       "      <th>count</th>\n",
       "      <td>5169</td>\n",
       "      <td>5169</td>\n",
       "    </tr>\n",
       "    <tr>\n",
       "      <th>unique</th>\n",
       "      <td>2</td>\n",
       "      <td>5169</td>\n",
       "    </tr>\n",
       "    <tr>\n",
       "      <th>top</th>\n",
       "      <td>ham</td>\n",
       "      <td>Go until jurong point, crazy.. Available only in bugis n great world la e buffet... Cine there got amore wat...</td>\n",
       "    </tr>\n",
       "    <tr>\n",
       "      <th>freq</th>\n",
       "      <td>4516</td>\n",
       "      <td>1</td>\n",
       "    </tr>\n",
       "  </tbody>\n",
       "</table>\n",
       "</div>"
      ],
      "text/plain": [
       "       Label  \\\n",
       "count   5169   \n",
       "unique     2   \n",
       "top      ham   \n",
       "freq    4516   \n",
       "\n",
       "                                                                                                                    SMS  \n",
       "count                                                                                                              5169  \n",
       "unique                                                                                                             5169  \n",
       "top     Go until jurong point, crazy.. Available only in bugis n great world la e buffet... Cine there got amore wat...  \n",
       "freq                                                                                                                  1  "
      ]
     },
     "execution_count": 11,
     "metadata": {},
     "output_type": "execute_result"
    }
   ],
   "source": [
    "messages_clean.describe(include=\"all\")"
   ]
  },
  {
   "cell_type": "markdown",
   "id": "54b691d5-4a03-4213-b9da-38be2a84ca58",
   "metadata": {},
   "source": [
    "We have now effectively removed all duplicate messages and stored the result in the messages_clean dataframe. Running the describe method now reveals 5,169 unique messages out of a total of 5,169 entries."
   ]
  },
  {
   "cell_type": "markdown",
   "id": "9942887b-363a-4bbb-b756-9d9eeadfaace",
   "metadata": {},
   "source": [
    "## Building a Training and Test Set"
   ]
  },
  {
   "cell_type": "markdown",
   "id": "ce60de04-7360-402c-a7ad-19ef2e4ca1ee",
   "metadata": {},
   "source": [
    "Next we are going to build a training and test set. The most straightforward and popular way of doing so is to use the train_test_split function from scikit-learn."
   ]
  },
  {
   "cell_type": "code",
   "execution_count": 12,
   "id": "4a59b9f3-3cf0-4d19-9e68-585e51bafac0",
   "metadata": {},
   "outputs": [],
   "source": [
    "from sklearn.model_selection import train_test_split"
   ]
  },
  {
   "cell_type": "markdown",
   "id": "31734332-3ebd-4399-94b8-465467bce75f",
   "metadata": {},
   "source": [
    "We are going to work with the messages_clean dataset. This dataset contains 5,169 entries. If we decide to do a 80 - 20 split, then roughly 1,000 messages will be used for testing. This should be enough to get a sense for the performance of the classifier."
   ]
  },
  {
   "cell_type": "code",
   "execution_count": 13,
   "id": "08ebe4f8-84fc-44f7-a413-fab6065e91e0",
   "metadata": {},
   "outputs": [],
   "source": [
    "mc_train, mc_test = train_test_split(messages_clean, test_size=0.2, random_state=2)"
   ]
  },
  {
   "cell_type": "markdown",
   "id": "a2eff0d0-10b2-453d-ae32-ac1d0b232528",
   "metadata": {},
   "source": [
    "Next we will verify the distribution of ham and spam messages in the new dataframes."
   ]
  },
  {
   "cell_type": "code",
   "execution_count": 14,
   "id": "f98100f8-01a0-43bd-98cb-738bf4af7d5c",
   "metadata": {},
   "outputs": [
    {
     "name": "stdout",
     "output_type": "stream",
     "text": [
      "Training distribution: \n",
      "Label\n",
      "ham     87.255139\n",
      "spam    12.744861\n",
      "Name: proportion, dtype: float64\n",
      "\n",
      "Test distribution: \n",
      "Label\n",
      "ham     87.814313\n",
      "spam    12.185687\n",
      "Name: proportion, dtype: float64\n"
     ]
    }
   ],
   "source": [
    "print(f\"Training distribution: \\n{mc_train['Label'].value_counts(normalize=True) * 100}\")\n",
    "print()\n",
    "print(f\"Test distribution: \\n{mc_test['Label'].value_counts(normalize=True) * 100}\")"
   ]
  },
  {
   "cell_type": "markdown",
   "id": "7c344fcd-1c62-4070-9653-d431abfb2cf9",
   "metadata": {},
   "source": [
    "The distribution of ham and spam messages is quite equal between the training and test datasets."
   ]
  },
  {
   "cell_type": "code",
   "execution_count": 15,
   "id": "1eaee138-6233-4c32-b2c2-7b7b46b5b342",
   "metadata": {},
   "outputs": [
    {
     "name": "stdout",
     "output_type": "stream",
     "text": [
      "The size of the training dataset is: 4135\n",
      "The size of the test dataset is: 1034\n"
     ]
    }
   ],
   "source": [
    "print(f\"The size of the training dataset is: {mc_train.shape[0]}\")\n",
    "print(f\"The size of the test dataset is: {mc_test.shape[0]}\")"
   ]
  },
  {
   "cell_type": "markdown",
   "id": "6fd5e1e9-eca1-4a7b-82af-fa5e031a034c",
   "metadata": {},
   "source": [
    "## Transforming the Training Dataset"
   ]
  },
  {
   "cell_type": "markdown",
   "id": "b9728f11-7e5c-433e-9aaf-fcae92c22344",
   "metadata": {},
   "source": [
    "We are now going to transform the dataframe in order to work with some key formulas that are at the heart of the Naive Bayes Classifier."
   ]
  },
  {
   "cell_type": "markdown",
   "id": "3f8e1a45-4de8-409a-9b22-3680ef4c0896",
   "metadata": {},
   "source": [
    "$ P(Spam\\vert w_1, w_2,..., w_n) \\propto P(Spam) \\cdot \\prod_{i = 1}^{n} P(w_i\\vert Spam) $\n",
    "\n",
    "$ P(Ham\\vert w_1, w_2,..., w_n) \\propto P(Ham) \\cdot \\prod_{i = 1}^{n} P(w_i\\vert Ham) $"
   ]
  },
  {
   "cell_type": "markdown",
   "id": "a67baa60-d975-426b-acbd-6f6c185b293a",
   "metadata": {},
   "source": [
    "$ P(w_i\\vert Spam) = \\frac {N_{w_i\\vert Spam} + \\alpha} {N_{Spam} + \\alpha \\cdot N_{Vocabulary}} $\n",
    "\n",
    "$ P(w_i\\vert Ham) = \\frac {N_{w_i\\vert Ham} + \\alpha} {N_{Ham} + \\alpha \\cdot N_{Vocabulary}} $"
   ]
  },
  {
   "cell_type": "markdown",
   "id": "44f53b7f-860e-4238-b5e5-f6675e7beb1c",
   "metadata": {},
   "source": [
    "These above formulas represent the Naive Bayes Classifier. The first two describe the relationship between the posterior and prior probabilities. We have two competiting probabilities given a new message. If the spam probability is higher than ham, the message will be labeled spam. The Naive part of the classifier is revealed in these first two equations, because conditional independence is assumed amongst all predictors (words in the message). The last two functions ensure that the probabilities will never be zero if a certain word does not appear in either the spam or ham message. Alpha represents a smoothing parameter, which is a hyperparameter for the model."
   ]
  },
  {
   "cell_type": "markdown",
   "id": "75ae4c03-bbc7-4cb8-9ab1-e698f1c1e60f",
   "metadata": {},
   "source": [
    "We are now going to remove punctuation from the training data and force everything to lower case."
   ]
  },
  {
   "cell_type": "code",
   "execution_count": 16,
   "id": "aafcb084-872c-4b0e-ad3b-96a5b0cd399e",
   "metadata": {},
   "outputs": [
    {
     "data": {
      "text/html": [
       "<div>\n",
       "<style scoped>\n",
       "    .dataframe tbody tr th:only-of-type {\n",
       "        vertical-align: middle;\n",
       "    }\n",
       "\n",
       "    .dataframe tbody tr th {\n",
       "        vertical-align: top;\n",
       "    }\n",
       "\n",
       "    .dataframe thead th {\n",
       "        text-align: right;\n",
       "    }\n",
       "</style>\n",
       "<table border=\"1\" class=\"dataframe\">\n",
       "  <thead>\n",
       "    <tr style=\"text-align: right;\">\n",
       "      <th></th>\n",
       "      <th>Label</th>\n",
       "      <th>SMS</th>\n",
       "    </tr>\n",
       "  </thead>\n",
       "  <tbody>\n",
       "    <tr>\n",
       "      <th>3963</th>\n",
       "      <td>ham</td>\n",
       "      <td>Buy one egg for me da..please:)</td>\n",
       "    </tr>\n",
       "    <tr>\n",
       "      <th>2905</th>\n",
       "      <td>ham</td>\n",
       "      <td>K..k...from tomorrow onwards started ah?</td>\n",
       "    </tr>\n",
       "    <tr>\n",
       "      <th>3165</th>\n",
       "      <td>ham</td>\n",
       "      <td>Oh great. I.ll disturb him more so that we can talk.</td>\n",
       "    </tr>\n",
       "    <tr>\n",
       "      <th>3271</th>\n",
       "      <td>spam</td>\n",
       "      <td>Bloomberg -Message center +447797706009 Why wait? Apply for your future http://careers. bloomberg.com</td>\n",
       "    </tr>\n",
       "    <tr>\n",
       "      <th>2533</th>\n",
       "      <td>ham</td>\n",
       "      <td>Hi, can i please get a  &amp;lt;#&amp;gt;  dollar loan from you. I.ll pay you back by mid february. Pls.</td>\n",
       "    </tr>\n",
       "  </tbody>\n",
       "</table>\n",
       "</div>"
      ],
      "text/plain": [
       "     Label  \\\n",
       "3963   ham   \n",
       "2905   ham   \n",
       "3165   ham   \n",
       "3271  spam   \n",
       "2533   ham   \n",
       "\n",
       "                                                                                                        SMS  \n",
       "3963                                                                        Buy one egg for me da..please:)  \n",
       "2905                                                               K..k...from tomorrow onwards started ah?  \n",
       "3165                                                   Oh great. I.ll disturb him more so that we can talk.  \n",
       "3271  Bloomberg -Message center +447797706009 Why wait? Apply for your future http://careers. bloomberg.com  \n",
       "2533       Hi, can i please get a  &lt;#&gt;  dollar loan from you. I.ll pay you back by mid february. Pls.  "
      ]
     },
     "execution_count": 16,
     "metadata": {},
     "output_type": "execute_result"
    }
   ],
   "source": [
    "mc_train.head()"
   ]
  },
  {
   "cell_type": "code",
   "execution_count": 17,
   "id": "12748542-ed2d-4d61-86d9-05ac71d82ee2",
   "metadata": {},
   "outputs": [],
   "source": [
    "mc_train_copy = mc_train.copy()"
   ]
  },
  {
   "cell_type": "code",
   "execution_count": 18,
   "id": "58de7599-75a1-4c3e-aba1-f291f9d05386",
   "metadata": {},
   "outputs": [],
   "source": [
    "mc_train_copy[\"SMS\"] = mc_train_copy[\"SMS\"].str.replace(r\"\\W\", \" \", regex=True)"
   ]
  },
  {
   "cell_type": "code",
   "execution_count": 19,
   "id": "8ac7c004-334f-4671-9e47-49a1975015d7",
   "metadata": {},
   "outputs": [
    {
     "data": {
      "text/html": [
       "<div>\n",
       "<style scoped>\n",
       "    .dataframe tbody tr th:only-of-type {\n",
       "        vertical-align: middle;\n",
       "    }\n",
       "\n",
       "    .dataframe tbody tr th {\n",
       "        vertical-align: top;\n",
       "    }\n",
       "\n",
       "    .dataframe thead th {\n",
       "        text-align: right;\n",
       "    }\n",
       "</style>\n",
       "<table border=\"1\" class=\"dataframe\">\n",
       "  <thead>\n",
       "    <tr style=\"text-align: right;\">\n",
       "      <th></th>\n",
       "      <th>Label</th>\n",
       "      <th>SMS</th>\n",
       "    </tr>\n",
       "  </thead>\n",
       "  <tbody>\n",
       "    <tr>\n",
       "      <th>3963</th>\n",
       "      <td>ham</td>\n",
       "      <td>Buy one egg for me da  please</td>\n",
       "    </tr>\n",
       "    <tr>\n",
       "      <th>2905</th>\n",
       "      <td>ham</td>\n",
       "      <td>K  k   from tomorrow onwards started ah</td>\n",
       "    </tr>\n",
       "    <tr>\n",
       "      <th>3165</th>\n",
       "      <td>ham</td>\n",
       "      <td>Oh great  I ll disturb him more so that we can talk</td>\n",
       "    </tr>\n",
       "    <tr>\n",
       "      <th>3271</th>\n",
       "      <td>spam</td>\n",
       "      <td>Bloomberg  Message center  447797706009 Why wait  Apply for your future http   careers  bloomberg com</td>\n",
       "    </tr>\n",
       "    <tr>\n",
       "      <th>2533</th>\n",
       "      <td>ham</td>\n",
       "      <td>Hi  can i please get a   lt   gt   dollar loan from you  I ll pay you back by mid february  Pls</td>\n",
       "    </tr>\n",
       "  </tbody>\n",
       "</table>\n",
       "</div>"
      ],
      "text/plain": [
       "     Label  \\\n",
       "3963   ham   \n",
       "2905   ham   \n",
       "3165   ham   \n",
       "3271  spam   \n",
       "2533   ham   \n",
       "\n",
       "                                                                                                        SMS  \n",
       "3963                                                                        Buy one egg for me da  please    \n",
       "2905                                                               K  k   from tomorrow onwards started ah   \n",
       "3165                                                   Oh great  I ll disturb him more so that we can talk   \n",
       "3271  Bloomberg  Message center  447797706009 Why wait  Apply for your future http   careers  bloomberg com  \n",
       "2533       Hi  can i please get a   lt   gt   dollar loan from you  I ll pay you back by mid february  Pls   "
      ]
     },
     "execution_count": 19,
     "metadata": {},
     "output_type": "execute_result"
    }
   ],
   "source": [
    "mc_train_copy.head()"
   ]
  },
  {
   "cell_type": "code",
   "execution_count": 20,
   "id": "c5f5f6dc-7ce4-4f1e-9e2d-4952a24ecb39",
   "metadata": {},
   "outputs": [],
   "source": [
    "mc_train_copy[\"SMS\"] = mc_train_copy[\"SMS\"].str.lower()"
   ]
  },
  {
   "cell_type": "code",
   "execution_count": 21,
   "id": "d8196f4a-b80b-48d0-82b8-3adc07695341",
   "metadata": {},
   "outputs": [
    {
     "data": {
      "text/html": [
       "<div>\n",
       "<style scoped>\n",
       "    .dataframe tbody tr th:only-of-type {\n",
       "        vertical-align: middle;\n",
       "    }\n",
       "\n",
       "    .dataframe tbody tr th {\n",
       "        vertical-align: top;\n",
       "    }\n",
       "\n",
       "    .dataframe thead th {\n",
       "        text-align: right;\n",
       "    }\n",
       "</style>\n",
       "<table border=\"1\" class=\"dataframe\">\n",
       "  <thead>\n",
       "    <tr style=\"text-align: right;\">\n",
       "      <th></th>\n",
       "      <th>Label</th>\n",
       "      <th>SMS</th>\n",
       "    </tr>\n",
       "  </thead>\n",
       "  <tbody>\n",
       "    <tr>\n",
       "      <th>3963</th>\n",
       "      <td>ham</td>\n",
       "      <td>buy one egg for me da  please</td>\n",
       "    </tr>\n",
       "    <tr>\n",
       "      <th>2905</th>\n",
       "      <td>ham</td>\n",
       "      <td>k  k   from tomorrow onwards started ah</td>\n",
       "    </tr>\n",
       "    <tr>\n",
       "      <th>3165</th>\n",
       "      <td>ham</td>\n",
       "      <td>oh great  i ll disturb him more so that we can talk</td>\n",
       "    </tr>\n",
       "    <tr>\n",
       "      <th>3271</th>\n",
       "      <td>spam</td>\n",
       "      <td>bloomberg  message center  447797706009 why wait  apply for your future http   careers  bloomberg com</td>\n",
       "    </tr>\n",
       "    <tr>\n",
       "      <th>2533</th>\n",
       "      <td>ham</td>\n",
       "      <td>hi  can i please get a   lt   gt   dollar loan from you  i ll pay you back by mid february  pls</td>\n",
       "    </tr>\n",
       "  </tbody>\n",
       "</table>\n",
       "</div>"
      ],
      "text/plain": [
       "     Label  \\\n",
       "3963   ham   \n",
       "2905   ham   \n",
       "3165   ham   \n",
       "3271  spam   \n",
       "2533   ham   \n",
       "\n",
       "                                                                                                        SMS  \n",
       "3963                                                                        buy one egg for me da  please    \n",
       "2905                                                               k  k   from tomorrow onwards started ah   \n",
       "3165                                                   oh great  i ll disturb him more so that we can talk   \n",
       "3271  bloomberg  message center  447797706009 why wait  apply for your future http   careers  bloomberg com  \n",
       "2533       hi  can i please get a   lt   gt   dollar loan from you  i ll pay you back by mid february  pls   "
      ]
     },
     "execution_count": 21,
     "metadata": {},
     "output_type": "execute_result"
    }
   ],
   "source": [
    "mc_train_copy.head()"
   ]
  },
  {
   "cell_type": "markdown",
   "id": "93007a1d-b0c3-48a7-8733-158e0c711775",
   "metadata": {},
   "source": [
    "We copied the training data to make sure the modifications would work. We will continue to work with the mc_train_copy data."
   ]
  },
  {
   "cell_type": "markdown",
   "id": "8abcd1b6-fae5-4fc9-9823-5c25213e1306",
   "metadata": {},
   "source": [
    "## Creating the Vocabulary for the Naive Bayes Classifier"
   ]
  },
  {
   "cell_type": "markdown",
   "id": "cbd87e93-2d21-4676-b2fe-0d055baba14f",
   "metadata": {},
   "source": [
    "We are now going to create a vocabulary, so we are able to track the words and calculate the necessary probabilities."
   ]
  },
  {
   "cell_type": "markdown",
   "id": "48e7a836-4e61-49be-a4d3-ebf418947933",
   "metadata": {},
   "source": [
    "We will first convert the string of individual words to a list of words. We can split the string on the space character to achieve this."
   ]
  },
  {
   "cell_type": "code",
   "execution_count": 22,
   "id": "0e85ae64-3a1c-49e0-9787-b3128cd54027",
   "metadata": {},
   "outputs": [],
   "source": [
    "mc_train_copy[\"SMS\"] = mc_train_copy[\"SMS\"].str.split()"
   ]
  },
  {
   "cell_type": "code",
   "execution_count": 23,
   "id": "a587f64c-c7f4-4d7c-88a5-2d0591609426",
   "metadata": {},
   "outputs": [
    {
     "data": {
      "text/html": [
       "<div>\n",
       "<style scoped>\n",
       "    .dataframe tbody tr th:only-of-type {\n",
       "        vertical-align: middle;\n",
       "    }\n",
       "\n",
       "    .dataframe tbody tr th {\n",
       "        vertical-align: top;\n",
       "    }\n",
       "\n",
       "    .dataframe thead th {\n",
       "        text-align: right;\n",
       "    }\n",
       "</style>\n",
       "<table border=\"1\" class=\"dataframe\">\n",
       "  <thead>\n",
       "    <tr style=\"text-align: right;\">\n",
       "      <th></th>\n",
       "      <th>Label</th>\n",
       "      <th>SMS</th>\n",
       "    </tr>\n",
       "  </thead>\n",
       "  <tbody>\n",
       "    <tr>\n",
       "      <th>3963</th>\n",
       "      <td>ham</td>\n",
       "      <td>[buy, one, egg, for, me, da, please]</td>\n",
       "    </tr>\n",
       "    <tr>\n",
       "      <th>2905</th>\n",
       "      <td>ham</td>\n",
       "      <td>[k, k, from, tomorrow, onwards, started, ah]</td>\n",
       "    </tr>\n",
       "    <tr>\n",
       "      <th>3165</th>\n",
       "      <td>ham</td>\n",
       "      <td>[oh, great, i, ll, disturb, him, more, so, that, we, can, talk]</td>\n",
       "    </tr>\n",
       "    <tr>\n",
       "      <th>3271</th>\n",
       "      <td>spam</td>\n",
       "      <td>[bloomberg, message, center, 447797706009, why, wait, apply, for, your, future, http, careers, bloomberg, com]</td>\n",
       "    </tr>\n",
       "    <tr>\n",
       "      <th>2533</th>\n",
       "      <td>ham</td>\n",
       "      <td>[hi, can, i, please, get, a, lt, gt, dollar, loan, from, you, i, ll, pay, you, back, by, mid, february, pls]</td>\n",
       "    </tr>\n",
       "  </tbody>\n",
       "</table>\n",
       "</div>"
      ],
      "text/plain": [
       "     Label  \\\n",
       "3963   ham   \n",
       "2905   ham   \n",
       "3165   ham   \n",
       "3271  spam   \n",
       "2533   ham   \n",
       "\n",
       "                                                                                                                 SMS  \n",
       "3963                                                                            [buy, one, egg, for, me, da, please]  \n",
       "2905                                                                    [k, k, from, tomorrow, onwards, started, ah]  \n",
       "3165                                                 [oh, great, i, ll, disturb, him, more, so, that, we, can, talk]  \n",
       "3271  [bloomberg, message, center, 447797706009, why, wait, apply, for, your, future, http, careers, bloomberg, com]  \n",
       "2533    [hi, can, i, please, get, a, lt, gt, dollar, loan, from, you, i, ll, pay, you, back, by, mid, february, pls]  "
      ]
     },
     "execution_count": 23,
     "metadata": {},
     "output_type": "execute_result"
    }
   ],
   "source": [
    "mc_train_copy.head()"
   ]
  },
  {
   "cell_type": "code",
   "execution_count": 24,
   "id": "5500b5f6-1b71-48ee-b629-8c562232c89a",
   "metadata": {},
   "outputs": [],
   "source": [
    "vocabulary = []"
   ]
  },
  {
   "cell_type": "code",
   "execution_count": 25,
   "id": "9750a976-3885-4783-8d5d-e1da1203742a",
   "metadata": {},
   "outputs": [],
   "source": [
    "for m in mc_train_copy[\"SMS\"]:\n",
    "    for w in m:\n",
    "        vocabulary.append(w)\n",
    "\n",
    "vocabulary = list(set(vocabulary))"
   ]
  },
  {
   "cell_type": "code",
   "execution_count": 26,
   "id": "46901e0d-7960-4b95-8967-602ef537306c",
   "metadata": {},
   "outputs": [
    {
     "data": {
      "text/plain": [
       "7738"
      ]
     },
     "execution_count": 26,
     "metadata": {},
     "output_type": "execute_result"
    }
   ],
   "source": [
    "len(vocabulary)"
   ]
  },
  {
   "cell_type": "markdown",
   "id": "be29e8d2-8d2e-42ea-838c-ecb5fa363830",
   "metadata": {},
   "source": [
    "We looped over every word in every message using a nested loop and added every word to the vocabulary list. In order to remove duplicates from this list, we used the set() function and the list() function to convert the vocabulary to a list again. The final vocabulary list contains 7,738 unique words."
   ]
  },
  {
   "cell_type": "markdown",
   "id": "13f3d805-788b-426d-bd46-2ab7dfeff0cc",
   "metadata": {},
   "source": [
    "## Final Training Set"
   ]
  },
  {
   "cell_type": "markdown",
   "id": "380d4bd0-105f-45e3-99d2-f07ce611eb1f",
   "metadata": {},
   "source": [
    "We now want to create our final training set by converting the dataframe into a unique word count structure using the vocabulary. Essentially every row in the training set will have a counter for each unique word as a column."
   ]
  },
  {
   "cell_type": "markdown",
   "id": "03d8ad11-509a-4d7d-91e3-63f5250e2503",
   "metadata": {},
   "source": [
    "To start with this conversion, we are going to create a dictionary structure that will count the occurrence for each unique word in the vocabulary per row of the training set. The structure will be a key-value pair, the key will be the unique word and the value a list of integers that represent the number of times the word occurs in the message."
   ]
  },
  {
   "cell_type": "code",
   "execution_count": 27,
   "id": "f96c1d60-47cd-4bad-b182-6296519333c4",
   "metadata": {},
   "outputs": [
    {
     "name": "stdout",
     "output_type": "stream",
     "text": [
      "81303 [0, 0, 0, 0, 0]\n"
     ]
    }
   ],
   "source": [
    "word_counts_per_sms = {word: [0] * mc_train_copy.shape[0] for word in vocabulary} # Initialize the dictionary to all zeros\n",
    "for w in word_counts_per_sms:\n",
    "    print(w, word_counts_per_sms[w][:5])\n",
    "    break"
   ]
  },
  {
   "cell_type": "code",
   "execution_count": 28,
   "id": "9350f83f-4d5d-4338-b4ef-72baf1cd9243",
   "metadata": {},
   "outputs": [],
   "source": [
    "for idx, words in enumerate(mc_train_copy[\"SMS\"]):\n",
    "    for w in words:\n",
    "        word_counts_per_sms[w][idx] += 1"
   ]
  },
  {
   "cell_type": "code",
   "execution_count": 29,
   "id": "66e6e261-2bf8-4bfb-9b1d-f19b04a639c5",
   "metadata": {},
   "outputs": [
    {
     "name": "stdout",
     "output_type": "stream",
     "text": [
      "1\n"
     ]
    }
   ],
   "source": [
    "print(word_counts_per_sms[\"buy\"][0])"
   ]
  },
  {
   "cell_type": "markdown",
   "id": "c1a69de6-0e0f-42e1-a200-fb4310b48f89",
   "metadata": {},
   "source": [
    "We now have a dictionary that keeps track of all the unique words in the messages per message. We now convert this dictionary into a dataframe and merge it together with the training set."
   ]
  },
  {
   "cell_type": "code",
   "execution_count": 30,
   "id": "75b0d2cc-2930-4a42-95c8-96c1ae47b7e1",
   "metadata": {},
   "outputs": [],
   "source": [
    "wcps = pd.DataFrame(data=word_counts_per_sms)"
   ]
  },
  {
   "cell_type": "code",
   "execution_count": 31,
   "id": "7a24fb6e-35ac-40fc-8351-dfa618897c35",
   "metadata": {},
   "outputs": [
    {
     "data": {
      "text/plain": [
       "0    1\n",
       "1    0\n",
       "2    0\n",
       "3    0\n",
       "4    0\n",
       "5    0\n",
       "Name: buy, dtype: int64"
      ]
     },
     "execution_count": 31,
     "metadata": {},
     "output_type": "execute_result"
    }
   ],
   "source": [
    "wcps.loc[:5, \"buy\"]"
   ]
  },
  {
   "cell_type": "code",
   "execution_count": 32,
   "id": "d3f31e97-f373-44ec-be68-6bd372a72c36",
   "metadata": {},
   "outputs": [
    {
     "data": {
      "text/html": [
       "<div>\n",
       "<style scoped>\n",
       "    .dataframe tbody tr th:only-of-type {\n",
       "        vertical-align: middle;\n",
       "    }\n",
       "\n",
       "    .dataframe tbody tr th {\n",
       "        vertical-align: top;\n",
       "    }\n",
       "\n",
       "    .dataframe thead th {\n",
       "        text-align: right;\n",
       "    }\n",
       "</style>\n",
       "<table border=\"1\" class=\"dataframe\">\n",
       "  <thead>\n",
       "    <tr style=\"text-align: right;\">\n",
       "      <th></th>\n",
       "      <th>81303</th>\n",
       "      <th>huh</th>\n",
       "      <th>xxx</th>\n",
       "      <th>aboutas</th>\n",
       "      <th>drive</th>\n",
       "    </tr>\n",
       "  </thead>\n",
       "  <tbody>\n",
       "    <tr>\n",
       "      <th>0</th>\n",
       "      <td>0</td>\n",
       "      <td>0</td>\n",
       "      <td>0</td>\n",
       "      <td>0</td>\n",
       "      <td>0</td>\n",
       "    </tr>\n",
       "    <tr>\n",
       "      <th>1</th>\n",
       "      <td>0</td>\n",
       "      <td>0</td>\n",
       "      <td>0</td>\n",
       "      <td>0</td>\n",
       "      <td>0</td>\n",
       "    </tr>\n",
       "    <tr>\n",
       "      <th>2</th>\n",
       "      <td>0</td>\n",
       "      <td>0</td>\n",
       "      <td>0</td>\n",
       "      <td>0</td>\n",
       "      <td>0</td>\n",
       "    </tr>\n",
       "    <tr>\n",
       "      <th>3</th>\n",
       "      <td>0</td>\n",
       "      <td>0</td>\n",
       "      <td>0</td>\n",
       "      <td>0</td>\n",
       "      <td>0</td>\n",
       "    </tr>\n",
       "    <tr>\n",
       "      <th>4</th>\n",
       "      <td>0</td>\n",
       "      <td>0</td>\n",
       "      <td>0</td>\n",
       "      <td>0</td>\n",
       "      <td>0</td>\n",
       "    </tr>\n",
       "  </tbody>\n",
       "</table>\n",
       "</div>"
      ],
      "text/plain": [
       "   81303  huh  xxx  aboutas  drive\n",
       "0      0    0    0        0      0\n",
       "1      0    0    0        0      0\n",
       "2      0    0    0        0      0\n",
       "3      0    0    0        0      0\n",
       "4      0    0    0        0      0"
      ]
     },
     "execution_count": 32,
     "metadata": {},
     "output_type": "execute_result"
    }
   ],
   "source": [
    "wcps.iloc[:5, :5]"
   ]
  },
  {
   "cell_type": "code",
   "execution_count": 33,
   "id": "d95b9b59-0033-4e39-9d32-06b4f5a0c9b3",
   "metadata": {},
   "outputs": [
    {
     "data": {
      "text/plain": [
       "(4135, 7738)"
      ]
     },
     "execution_count": 33,
     "metadata": {},
     "output_type": "execute_result"
    }
   ],
   "source": [
    "wcps.shape"
   ]
  },
  {
   "cell_type": "markdown",
   "id": "aca77ffb-b44f-443f-a50a-d95d70a4c80d",
   "metadata": {},
   "source": [
    "We just converted our word_counts_per_sms to a dataframe. This dataframe should have the same number of rows as our original training dataset (4135) and a total number of columns that is equal to the amount of unique words in the vocabulary (7738)"
   ]
  },
  {
   "cell_type": "markdown",
   "id": "364c6f00-1d7f-4fb2-b2e4-81ba95a982ef",
   "metadata": {},
   "source": [
    "Finally merging the two dataframes together as follows:"
   ]
  },
  {
   "cell_type": "code",
   "execution_count": 99,
   "id": "edce118d-0fbe-4c2c-b9a6-2cf0228b8b4a",
   "metadata": {},
   "outputs": [],
   "source": [
    "mc_train_conv = pd.concat([mc_train_copy.reset_index(drop=True), wcps], axis=1)"
   ]
  },
  {
   "cell_type": "code",
   "execution_count": 100,
   "id": "65c49132-0f3b-4f56-bb5f-b797d08b9a68",
   "metadata": {},
   "outputs": [
    {
     "data": {
      "text/plain": [
       "(4135, 7740)"
      ]
     },
     "execution_count": 100,
     "metadata": {},
     "output_type": "execute_result"
    }
   ],
   "source": [
    "mc_train_conv.shape"
   ]
  },
  {
   "cell_type": "code",
   "execution_count": 101,
   "id": "49940d20-cb79-4e73-bb6e-4dbb9231d1e8",
   "metadata": {},
   "outputs": [
    {
     "data": {
      "text/html": [
       "<div>\n",
       "<style scoped>\n",
       "    .dataframe tbody tr th:only-of-type {\n",
       "        vertical-align: middle;\n",
       "    }\n",
       "\n",
       "    .dataframe tbody tr th {\n",
       "        vertical-align: top;\n",
       "    }\n",
       "\n",
       "    .dataframe thead th {\n",
       "        text-align: right;\n",
       "    }\n",
       "</style>\n",
       "<table border=\"1\" class=\"dataframe\">\n",
       "  <thead>\n",
       "    <tr style=\"text-align: right;\">\n",
       "      <th></th>\n",
       "      <th>SMS</th>\n",
       "      <th>buy</th>\n",
       "      <th>one</th>\n",
       "      <th>egg</th>\n",
       "      <th>for</th>\n",
       "      <th>me</th>\n",
       "      <th>da</th>\n",
       "      <th>please</th>\n",
       "    </tr>\n",
       "  </thead>\n",
       "  <tbody>\n",
       "    <tr>\n",
       "      <th>0</th>\n",
       "      <td>[buy, one, egg, for, me, da, please]</td>\n",
       "      <td>1</td>\n",
       "      <td>1</td>\n",
       "      <td>1</td>\n",
       "      <td>1</td>\n",
       "      <td>1</td>\n",
       "      <td>1</td>\n",
       "      <td>1</td>\n",
       "    </tr>\n",
       "    <tr>\n",
       "      <th>1</th>\n",
       "      <td>[k, k, from, tomorrow, onwards, started, ah]</td>\n",
       "      <td>0</td>\n",
       "      <td>0</td>\n",
       "      <td>0</td>\n",
       "      <td>0</td>\n",
       "      <td>0</td>\n",
       "      <td>0</td>\n",
       "      <td>0</td>\n",
       "    </tr>\n",
       "    <tr>\n",
       "      <th>2</th>\n",
       "      <td>[oh, great, i, ll, disturb, him, more, so, that, we, can, talk]</td>\n",
       "      <td>0</td>\n",
       "      <td>0</td>\n",
       "      <td>0</td>\n",
       "      <td>0</td>\n",
       "      <td>0</td>\n",
       "      <td>0</td>\n",
       "      <td>0</td>\n",
       "    </tr>\n",
       "    <tr>\n",
       "      <th>3</th>\n",
       "      <td>[bloomberg, message, center, 447797706009, why, wait, apply, for, your, future, http, careers, bloomberg, com]</td>\n",
       "      <td>0</td>\n",
       "      <td>0</td>\n",
       "      <td>0</td>\n",
       "      <td>1</td>\n",
       "      <td>0</td>\n",
       "      <td>0</td>\n",
       "      <td>0</td>\n",
       "    </tr>\n",
       "    <tr>\n",
       "      <th>4</th>\n",
       "      <td>[hi, can, i, please, get, a, lt, gt, dollar, loan, from, you, i, ll, pay, you, back, by, mid, february, pls]</td>\n",
       "      <td>0</td>\n",
       "      <td>0</td>\n",
       "      <td>0</td>\n",
       "      <td>0</td>\n",
       "      <td>0</td>\n",
       "      <td>0</td>\n",
       "      <td>1</td>\n",
       "    </tr>\n",
       "  </tbody>\n",
       "</table>\n",
       "</div>"
      ],
      "text/plain": [
       "                                                                                                              SMS  \\\n",
       "0                                                                            [buy, one, egg, for, me, da, please]   \n",
       "1                                                                    [k, k, from, tomorrow, onwards, started, ah]   \n",
       "2                                                 [oh, great, i, ll, disturb, him, more, so, that, we, can, talk]   \n",
       "3  [bloomberg, message, center, 447797706009, why, wait, apply, for, your, future, http, careers, bloomberg, com]   \n",
       "4    [hi, can, i, please, get, a, lt, gt, dollar, loan, from, you, i, ll, pay, you, back, by, mid, february, pls]   \n",
       "\n",
       "   buy  one  egg  for  me  da  please  \n",
       "0    1    1    1    1   1   1       1  \n",
       "1    0    0    0    0   0   0       0  \n",
       "2    0    0    0    0   0   0       0  \n",
       "3    0    0    0    1   0   0       0  \n",
       "4    0    0    0    0   0   0       1  "
      ]
     },
     "execution_count": 101,
     "metadata": {},
     "output_type": "execute_result"
    }
   ],
   "source": [
    "mc_train_conv[[\"SMS\", \"buy\", \"one\", \"egg\", \"for\", \"me\", \"da\", \"please\"]].head()"
   ]
  },
  {
   "cell_type": "markdown",
   "id": "ff48d628-2fa9-45f0-9fb1-87ee8c501427",
   "metadata": {},
   "source": [
    "Since the dataframes are merged together based on the index, the indexing of the training dataset needed to be reset in order to properly merge both dataframes. To ensure that the dataframes were properly merged, the shape is checked and is correct and the input is verified (first entrance correctly indicating presence of words)"
   ]
  },
  {
   "cell_type": "markdown",
   "id": "e1851442-8fc1-4d88-9e48-da36b8243723",
   "metadata": {},
   "source": [
    "## Calculating the Constants of the Naive Bayes Classifier"
   ]
  },
  {
   "cell_type": "markdown",
   "id": "e0d1b2ad-785c-4f5c-b6b2-4e84b029497f",
   "metadata": {},
   "source": [
    "There are a number of constants that were defined above in the Naive Bayes Classifier logic. These constants will now be determined. "
   ]
  },
  {
   "cell_type": "markdown",
   "id": "cdeafeb3-31f1-400e-a5db-c6b51b917d58",
   "metadata": {},
   "source": [
    "First we will calculate the prior probabilities as follows:"
   ]
  },
  {
   "cell_type": "code",
   "execution_count": 102,
   "id": "7b6a59c2-2033-455b-b208-fea5476d198e",
   "metadata": {},
   "outputs": [
    {
     "data": {
      "text/plain": [
       "0.12744860943168076"
      ]
     },
     "execution_count": 102,
     "metadata": {},
     "output_type": "execute_result"
    }
   ],
   "source": [
    "p_spam = float(mc_train_copy[\"Label\"].value_counts(normalize=True)[\"spam\"])\n",
    "p_spam"
   ]
  },
  {
   "cell_type": "code",
   "execution_count": 103,
   "id": "e2997a09-4fb5-444d-a937-c45644625b16",
   "metadata": {},
   "outputs": [
    {
     "data": {
      "text/plain": [
       "0.8725513905683192"
      ]
     },
     "execution_count": 103,
     "metadata": {},
     "output_type": "execute_result"
    }
   ],
   "source": [
    "p_ham = float(mc_train_copy[\"Label\"].value_counts(normalize=True)[\"ham\"])\n",
    "p_ham"
   ]
  },
  {
   "cell_type": "markdown",
   "id": "260f2df6-209c-4adb-9b59-b386f60c3d95",
   "metadata": {},
   "source": [
    "Next we will calculate the total number of words in the vocabulary as well as the total number of words in all spam training messages and the total number of words in all ham training messages."
   ]
  },
  {
   "cell_type": "code",
   "execution_count": 104,
   "id": "4e34f39f-ace2-4284-abf8-896f7c9e2049",
   "metadata": {},
   "outputs": [
    {
     "data": {
      "text/plain": [
       "7738"
      ]
     },
     "execution_count": 104,
     "metadata": {},
     "output_type": "execute_result"
    }
   ],
   "source": [
    "n_vocabulary = len(vocabulary)\n",
    "n_vocabulary"
   ]
  },
  {
   "cell_type": "code",
   "execution_count": 105,
   "id": "cc809762-efc6-49a6-a7af-564ed0a0a939",
   "metadata": {},
   "outputs": [
    {
     "data": {
      "text/plain": [
       "13348"
      ]
     },
     "execution_count": 105,
     "metadata": {},
     "output_type": "execute_result"
    }
   ],
   "source": [
    "n_spam = sum(mc_train_copy.loc[mc_train_copy[\"Label\"] == \"spam\", \"SMS\"].apply(lambda x: len(x)))\n",
    "n_spam"
   ]
  },
  {
   "cell_type": "code",
   "execution_count": 106,
   "id": "df502c7d-3ced-4729-a7b5-dd518f969571",
   "metadata": {},
   "outputs": [
    {
     "data": {
      "text/plain": [
       "53049"
      ]
     },
     "execution_count": 106,
     "metadata": {},
     "output_type": "execute_result"
    }
   ],
   "source": [
    "n_ham = sum(mc_train_copy.loc[mc_train_copy[\"Label\"] == \"ham\", \"SMS\"].apply(lambda x: len(x)))\n",
    "n_ham"
   ]
  },
  {
   "cell_type": "markdown",
   "id": "cb10113d-0243-49fa-8c57-dd8b4b03743a",
   "metadata": {},
   "source": [
    "Finally the smoothing parameter alpha will be initiated here and the value of 1 is chosen:"
   ]
  },
  {
   "cell_type": "code",
   "execution_count": 107,
   "id": "67487aa8-cd8b-4e51-86d5-fa7ddc10ab5c",
   "metadata": {},
   "outputs": [],
   "source": [
    "alpha = 1"
   ]
  },
  {
   "cell_type": "markdown",
   "id": "fb11a272-8d78-4c28-a8b1-241f6f84cd3c",
   "metadata": {},
   "source": [
    "## Calculating the Parameters"
   ]
  },
  {
   "cell_type": "markdown",
   "id": "9215e592-bff5-47a7-90ca-78f665cf16aa",
   "metadata": {},
   "source": [
    "Next we are going to calculate the conditional probabilities for each word and ham or spam message status. These probabilities are needed to calculate the posterior probabilities. We will use a dictionary data-structure for this exercise."
   ]
  },
  {
   "cell_type": "code",
   "execution_count": 108,
   "id": "1bd7cafa-ee23-4b46-bf33-b0414569bbf8",
   "metadata": {},
   "outputs": [],
   "source": [
    "p_w_spams = {word: 0 for word in vocabulary}\n",
    "p_w_hams = {word: 0 for word in vocabulary}"
   ]
  },
  {
   "cell_type": "code",
   "execution_count": 109,
   "id": "18a85cf9-8df2-4a83-bd9a-ff8fec5f9adb",
   "metadata": {},
   "outputs": [],
   "source": [
    "train_ham = mc_train_conv[mc_train_conv[\"Label\"] == \"ham\"]\n",
    "train_spam = mc_train_conv[mc_train_conv[\"Label\"] == \"spam\"]"
   ]
  },
  {
   "cell_type": "code",
   "execution_count": 110,
   "id": "165e6172-507f-48aa-82a0-ee04b05b9065",
   "metadata": {},
   "outputs": [],
   "source": [
    "for w in vocabulary:\n",
    "    n_w_spam = sum(train_spam[w])\n",
    "    p_w_spam = (n_w_spam + alpha) / (n_spam + alpha * n_vocabulary)\n",
    "    p_w_spams[w] = p_w_spam\n",
    "\n",
    "    n_w_ham = sum(train_ham[w])\n",
    "    p_w_ham = (n_w_ham + alpha) / (n_ham + alpha * n_vocabulary)\n",
    "    p_w_hams[w] = p_w_ham"
   ]
  },
  {
   "cell_type": "code",
   "execution_count": 111,
   "id": "c2590164-8088-4bf9-bcea-043ae4e72358",
   "metadata": {},
   "outputs": [
    {
     "data": {
      "text/plain": [
       "4.742483164184767e-05"
      ]
     },
     "execution_count": 111,
     "metadata": {},
     "output_type": "execute_result"
    }
   ],
   "source": [
    "p_w_spams[\"egg\"]"
   ]
  },
  {
   "cell_type": "code",
   "execution_count": 112,
   "id": "32c81bf6-e35a-4bba-9a98-55bfe5c8fdc5",
   "metadata": {},
   "outputs": [
    {
     "data": {
      "text/plain": [
       "6.58035435208186e-05"
      ]
     },
     "execution_count": 112,
     "metadata": {},
     "output_type": "execute_result"
    }
   ],
   "source": [
    "p_w_hams[\"egg\"]"
   ]
  },
  {
   "cell_type": "markdown",
   "id": "bfa04fc3-bef9-4dcb-92c7-23479c847e32",
   "metadata": {},
   "source": [
    "The above two lines of code represent the conditional probability of seeing the word \"egg\" in either a spam or ham message respectively based on the training data. Reviewing the probabilities, the word \"egg\" is more likely to appear in a ham message than a spam message."
   ]
  },
  {
   "cell_type": "markdown",
   "id": "f557e7c2-f70d-4b21-8bd6-530df637cf7e",
   "metadata": {},
   "source": [
    "## Classifying a New Message Using the NB Algorithm"
   ]
  },
  {
   "cell_type": "markdown",
   "id": "e758ea54-eae7-4a88-bdbf-6bd4d54075aa",
   "metadata": {},
   "source": [
    "Next we will actually perform the NB classifier by building a custom function and applying this function to the test dataset that we haven't worked with yet. Based on the outcome of the test dataset, we can review the performance of the model through standard classifier analysis (accuracy, confusion matrix)"
   ]
  },
  {
   "cell_type": "code",
   "execution_count": 126,
   "id": "20b371c1-1e4e-4d23-a0ac-7884407cbded",
   "metadata": {},
   "outputs": [],
   "source": [
    "import re"
   ]
  },
  {
   "cell_type": "code",
   "execution_count": 135,
   "id": "765d4abe-f3da-4e0a-893d-a71eee4c8e9c",
   "metadata": {},
   "outputs": [],
   "source": [
    "def NBClassifier(message):\n",
    "\n",
    "    # Perform similar datacleaning on the message as before starting with removing punctuation\n",
    "    message = re.sub(r\"\\W\", \" \", message)\n",
    "\n",
    "    # Force every word to lowercase\n",
    "    message = message.lower()\n",
    "\n",
    "    # Split the message on each space to create a list of words\n",
    "    message = message.split()\n",
    "\n",
    "    # Next we will calculate the posterior probabilities using the data from the training set\n",
    "    p_spam_given_message = p_spam\n",
    "    p_ham_given_message = p_ham\n",
    "\n",
    "    # Looping over every word in the message, if the word is in the conditional probabilities dictionary, update the posterior probabilities\n",
    "    for w in message:\n",
    "        if w in p_w_spams:\n",
    "            p_spam_given_message *= p_w_spams[w]\n",
    "            p_ham_given_message *= p_w_hams[w]\n",
    "\n",
    "    # If the ham probability is greater than spam, label ham, otherwise spam. If the probabilities are equal, human classification is required.\n",
    "    if p_ham_given_message > p_spam_given_message:\n",
    "        return \"ham\"\n",
    "    elif p_ham_given_message < p_spam_given_message:\n",
    "        return \"spam\"\n",
    "    else:\n",
    "        return \"Equal probabilities, needs human classification\""
   ]
  },
  {
   "cell_type": "markdown",
   "id": "f13d3255-abab-486a-8221-8c3308049cf4",
   "metadata": {},
   "source": [
    "We are now going to apply this function to the text messages in the test dataset and creating a new column with predicted labels."
   ]
  },
  {
   "cell_type": "code",
   "execution_count": 128,
   "id": "b0c3ffa1-b5d1-4392-b1cd-bc5bb2e6579f",
   "metadata": {},
   "outputs": [
    {
     "data": {
      "text/html": [
       "<div>\n",
       "<style scoped>\n",
       "    .dataframe tbody tr th:only-of-type {\n",
       "        vertical-align: middle;\n",
       "    }\n",
       "\n",
       "    .dataframe tbody tr th {\n",
       "        vertical-align: top;\n",
       "    }\n",
       "\n",
       "    .dataframe thead th {\n",
       "        text-align: right;\n",
       "    }\n",
       "</style>\n",
       "<table border=\"1\" class=\"dataframe\">\n",
       "  <thead>\n",
       "    <tr style=\"text-align: right;\">\n",
       "      <th></th>\n",
       "      <th>Label</th>\n",
       "      <th>SMS</th>\n",
       "    </tr>\n",
       "  </thead>\n",
       "  <tbody>\n",
       "    <tr>\n",
       "      <th>2360</th>\n",
       "      <td>ham</td>\n",
       "      <td>i cant talk to you now.i will call when i can.dont keep calling.</td>\n",
       "    </tr>\n",
       "    <tr>\n",
       "      <th>4365</th>\n",
       "      <td>spam</td>\n",
       "      <td>Customer service announcement. We recently tried to make a delivery to you but were unable to do so, please call 07099833605 to re-schedule. Ref:9280114</td>\n",
       "    </tr>\n",
       "    <tr>\n",
       "      <th>4500</th>\n",
       "      <td>ham</td>\n",
       "      <td>Im good! I have been thinking about you...</td>\n",
       "    </tr>\n",
       "    <tr>\n",
       "      <th>3916</th>\n",
       "      <td>ham</td>\n",
       "      <td>Ok... But they said i've got wisdom teeth hidden inside n mayb need 2 remove.</td>\n",
       "    </tr>\n",
       "    <tr>\n",
       "      <th>4714</th>\n",
       "      <td>ham</td>\n",
       "      <td>Hey next sun 1030 there's a basic yoga course... at bugis... We can go for that... Pilates intro next sat.... Tell me what time you r free</td>\n",
       "    </tr>\n",
       "  </tbody>\n",
       "</table>\n",
       "</div>"
      ],
      "text/plain": [
       "     Label  \\\n",
       "2360   ham   \n",
       "4365  spam   \n",
       "4500   ham   \n",
       "3916   ham   \n",
       "4714   ham   \n",
       "\n",
       "                                                                                                                                                           SMS  \n",
       "2360                                                                                          i cant talk to you now.i will call when i can.dont keep calling.  \n",
       "4365  Customer service announcement. We recently tried to make a delivery to you but were unable to do so, please call 07099833605 to re-schedule. Ref:9280114  \n",
       "4500                                                                                                                Im good! I have been thinking about you...  \n",
       "3916                                                                             Ok... But they said i've got wisdom teeth hidden inside n mayb need 2 remove.  \n",
       "4714                Hey next sun 1030 there's a basic yoga course... at bugis... We can go for that... Pilates intro next sat.... Tell me what time you r free  "
      ]
     },
     "execution_count": 128,
     "metadata": {},
     "output_type": "execute_result"
    }
   ],
   "source": [
    "mc_test.head()"
   ]
  },
  {
   "cell_type": "markdown",
   "id": "03f36042-4113-492b-96f2-45550667625c",
   "metadata": {},
   "source": [
    "We will first reset the index of this dataframe to avoid potential issues with the apply method."
   ]
  },
  {
   "cell_type": "code",
   "execution_count": 129,
   "id": "af9354e1-db05-4685-8c8a-b3405394ae2a",
   "metadata": {},
   "outputs": [],
   "source": [
    "mc_test_copy = mc_test.copy()"
   ]
  },
  {
   "cell_type": "code",
   "execution_count": 130,
   "id": "418a4419-3c60-49bb-aabe-8a269bb3cd60",
   "metadata": {},
   "outputs": [
    {
     "data": {
      "text/html": [
       "<div>\n",
       "<style scoped>\n",
       "    .dataframe tbody tr th:only-of-type {\n",
       "        vertical-align: middle;\n",
       "    }\n",
       "\n",
       "    .dataframe tbody tr th {\n",
       "        vertical-align: top;\n",
       "    }\n",
       "\n",
       "    .dataframe thead th {\n",
       "        text-align: right;\n",
       "    }\n",
       "</style>\n",
       "<table border=\"1\" class=\"dataframe\">\n",
       "  <thead>\n",
       "    <tr style=\"text-align: right;\">\n",
       "      <th></th>\n",
       "      <th>Label</th>\n",
       "      <th>SMS</th>\n",
       "    </tr>\n",
       "  </thead>\n",
       "  <tbody>\n",
       "    <tr>\n",
       "      <th>0</th>\n",
       "      <td>ham</td>\n",
       "      <td>i cant talk to you now.i will call when i can.dont keep calling.</td>\n",
       "    </tr>\n",
       "    <tr>\n",
       "      <th>1</th>\n",
       "      <td>spam</td>\n",
       "      <td>Customer service announcement. We recently tried to make a delivery to you but were unable to do so, please call 07099833605 to re-schedule. Ref:9280114</td>\n",
       "    </tr>\n",
       "    <tr>\n",
       "      <th>2</th>\n",
       "      <td>ham</td>\n",
       "      <td>Im good! I have been thinking about you...</td>\n",
       "    </tr>\n",
       "    <tr>\n",
       "      <th>3</th>\n",
       "      <td>ham</td>\n",
       "      <td>Ok... But they said i've got wisdom teeth hidden inside n mayb need 2 remove.</td>\n",
       "    </tr>\n",
       "    <tr>\n",
       "      <th>4</th>\n",
       "      <td>ham</td>\n",
       "      <td>Hey next sun 1030 there's a basic yoga course... at bugis... We can go for that... Pilates intro next sat.... Tell me what time you r free</td>\n",
       "    </tr>\n",
       "  </tbody>\n",
       "</table>\n",
       "</div>"
      ],
      "text/plain": [
       "  Label  \\\n",
       "0   ham   \n",
       "1  spam   \n",
       "2   ham   \n",
       "3   ham   \n",
       "4   ham   \n",
       "\n",
       "                                                                                                                                                        SMS  \n",
       "0                                                                                          i cant talk to you now.i will call when i can.dont keep calling.  \n",
       "1  Customer service announcement. We recently tried to make a delivery to you but were unable to do so, please call 07099833605 to re-schedule. Ref:9280114  \n",
       "2                                                                                                                Im good! I have been thinking about you...  \n",
       "3                                                                             Ok... But they said i've got wisdom teeth hidden inside n mayb need 2 remove.  \n",
       "4                Hey next sun 1030 there's a basic yoga course... at bugis... We can go for that... Pilates intro next sat.... Tell me what time you r free  "
      ]
     },
     "execution_count": 130,
     "metadata": {},
     "output_type": "execute_result"
    }
   ],
   "source": [
    "mc_test_copy = mc_test_copy.reset_index(drop=True)\n",
    "mc_test_copy.head()"
   ]
  },
  {
   "cell_type": "code",
   "execution_count": 131,
   "id": "5acaa7c4-b134-4c86-b40b-e148c1b40dcb",
   "metadata": {},
   "outputs": [],
   "source": [
    "mc_test_copy[\"Predicted\"] = mc_test_copy[\"SMS\"].apply(NBClassifier)"
   ]
  },
  {
   "cell_type": "code",
   "execution_count": 132,
   "id": "0f179cbd-4396-4940-87f1-2dac2e31c355",
   "metadata": {},
   "outputs": [
    {
     "data": {
      "text/html": [
       "<div>\n",
       "<style scoped>\n",
       "    .dataframe tbody tr th:only-of-type {\n",
       "        vertical-align: middle;\n",
       "    }\n",
       "\n",
       "    .dataframe tbody tr th {\n",
       "        vertical-align: top;\n",
       "    }\n",
       "\n",
       "    .dataframe thead th {\n",
       "        text-align: right;\n",
       "    }\n",
       "</style>\n",
       "<table border=\"1\" class=\"dataframe\">\n",
       "  <thead>\n",
       "    <tr style=\"text-align: right;\">\n",
       "      <th></th>\n",
       "      <th>Label</th>\n",
       "      <th>SMS</th>\n",
       "      <th>Predicted</th>\n",
       "    </tr>\n",
       "  </thead>\n",
       "  <tbody>\n",
       "    <tr>\n",
       "      <th>0</th>\n",
       "      <td>ham</td>\n",
       "      <td>i cant talk to you now.i will call when i can.dont keep calling.</td>\n",
       "      <td>ham</td>\n",
       "    </tr>\n",
       "    <tr>\n",
       "      <th>1</th>\n",
       "      <td>spam</td>\n",
       "      <td>Customer service announcement. We recently tried to make a delivery to you but were unable to do so, please call 07099833605 to re-schedule. Ref:9280114</td>\n",
       "      <td>spam</td>\n",
       "    </tr>\n",
       "    <tr>\n",
       "      <th>2</th>\n",
       "      <td>ham</td>\n",
       "      <td>Im good! I have been thinking about you...</td>\n",
       "      <td>ham</td>\n",
       "    </tr>\n",
       "    <tr>\n",
       "      <th>3</th>\n",
       "      <td>ham</td>\n",
       "      <td>Ok... But they said i've got wisdom teeth hidden inside n mayb need 2 remove.</td>\n",
       "      <td>ham</td>\n",
       "    </tr>\n",
       "    <tr>\n",
       "      <th>4</th>\n",
       "      <td>ham</td>\n",
       "      <td>Hey next sun 1030 there's a basic yoga course... at bugis... We can go for that... Pilates intro next sat.... Tell me what time you r free</td>\n",
       "      <td>ham</td>\n",
       "    </tr>\n",
       "  </tbody>\n",
       "</table>\n",
       "</div>"
      ],
      "text/plain": [
       "  Label  \\\n",
       "0   ham   \n",
       "1  spam   \n",
       "2   ham   \n",
       "3   ham   \n",
       "4   ham   \n",
       "\n",
       "                                                                                                                                                        SMS  \\\n",
       "0                                                                                          i cant talk to you now.i will call when i can.dont keep calling.   \n",
       "1  Customer service announcement. We recently tried to make a delivery to you but were unable to do so, please call 07099833605 to re-schedule. Ref:9280114   \n",
       "2                                                                                                                Im good! I have been thinking about you...   \n",
       "3                                                                             Ok... But they said i've got wisdom teeth hidden inside n mayb need 2 remove.   \n",
       "4                Hey next sun 1030 there's a basic yoga course... at bugis... We can go for that... Pilates intro next sat.... Tell me what time you r free   \n",
       "\n",
       "  Predicted  \n",
       "0       ham  \n",
       "1      spam  \n",
       "2       ham  \n",
       "3       ham  \n",
       "4       ham  "
      ]
     },
     "execution_count": 132,
     "metadata": {},
     "output_type": "execute_result"
    }
   ],
   "source": [
    "mc_test_copy.head()"
   ]
  },
  {
   "cell_type": "markdown",
   "id": "3b74e0ed-4203-45e6-99b8-8c5473008a83",
   "metadata": {},
   "source": [
    "We can clearly see that we have now generated predicted labels for unseen test data for each message. In order to understand how well our classifier performs, we can look at accuracy metrics. We are going to use the scikit-learn library for this assessment."
   ]
  },
  {
   "cell_type": "markdown",
   "id": "d18acd3b-a13b-44d7-8601-b6b4bf6234d2",
   "metadata": {},
   "source": [
    "## Measuring the Classifier's accuracy"
   ]
  },
  {
   "cell_type": "code",
   "execution_count": 134,
   "id": "8e2918ab-da1c-4856-bbdb-09162233e73d",
   "metadata": {},
   "outputs": [],
   "source": [
    "from sklearn.metrics import accuracy_score, confusion_matrix"
   ]
  },
  {
   "cell_type": "markdown",
   "id": "e7481dd0-d53f-45e7-93ea-c95b93cb5096",
   "metadata": {},
   "source": [
    "We are now going to store the actual labels of the messages in y_true and the predicted labels in y_pred and calculate all the performance metrics."
   ]
  },
  {
   "cell_type": "code",
   "execution_count": 136,
   "id": "7d36bae0-0b35-40a6-ac29-86d3b224be1a",
   "metadata": {},
   "outputs": [],
   "source": [
    "y_true = mc_test_copy[\"Label\"]\n",
    "y_pred = mc_test_copy[\"Predicted\"]"
   ]
  },
  {
   "cell_type": "code",
   "execution_count": 138,
   "id": "0f161b25-bb9f-4a6c-b16c-899a89e64ddd",
   "metadata": {},
   "outputs": [
    {
     "name": "stdout",
     "output_type": "stream",
     "text": [
      "The accuracy of our custom Naive Bayes Classifier is 98.26%\n"
     ]
    }
   ],
   "source": [
    "accuracy = accuracy_score(y_true, y_pred)\n",
    "print(f\"The accuracy of our custom Naive Bayes Classifier is {accuracy * 100:.2f}%\")"
   ]
  },
  {
   "cell_type": "markdown",
   "id": "110f3c1b-f26e-4584-81e0-25bc7ab85d11",
   "metadata": {},
   "source": [
    "This accuracy number means that on unseen data the classifier correctly predicts the right label in almost 99% of the cases, which is quite good. There are certainly a number of assumptions and decisions that were made that could potentially lower the accuracy of the classifier. Words were simply split on spaces and punctuation removed, we could have decided to do something more complex like keeping website urls and other formats intact. Also we ignored any new words in the test data and only looked for words that were common between the training and test sets."
   ]
  },
  {
   "cell_type": "markdown",
   "id": "18e069b7-8dfa-44b8-83d3-c58415fa3ced",
   "metadata": {},
   "source": [
    "To get a better grasp on the performance, we are going to look at the confusion_matrix next."
   ]
  },
  {
   "cell_type": "code",
   "execution_count": 139,
   "id": "74b98170-5590-452d-855e-5db6bab2d244",
   "metadata": {},
   "outputs": [
    {
     "data": {
      "text/plain": [
       "(905, 3, 15, 111)"
      ]
     },
     "execution_count": 139,
     "metadata": {},
     "output_type": "execute_result"
    }
   ],
   "source": [
    "tn, fp, fn, tp = confusion_matrix(y_true, y_pred).ravel().tolist()\n",
    "(tn, fp, fn, tp)"
   ]
  },
  {
   "cell_type": "markdown",
   "id": "2a60bdd7-60e1-46c5-a8ce-f44311544006",
   "metadata": {},
   "source": [
    "The confusion_matrix reveals that 905 messages were correctly assigned ham and 111 messages correctly assigned spam. 3 messages were incorrectly assigned spam and 15 messages were incorrectly assigned ham. The false negative rate seems larger than the false positive, let's dive a little bit deeper."
   ]
  },
  {
   "cell_type": "code",
   "execution_count": 143,
   "id": "4c156bd4-7b18-48fb-a172-dcda983b9327",
   "metadata": {},
   "outputs": [
    {
     "name": "stdout",
     "output_type": "stream",
     "text": [
      "The precision of our custom Naive Bayes Classifier is 97.37%\n"
     ]
    }
   ],
   "source": [
    "precision = tp / (tp + fp)\n",
    "print(f\"The precision of our custom Naive Bayes Classifier is {precision * 100:.2f}%\")"
   ]
  },
  {
   "cell_type": "code",
   "execution_count": 141,
   "id": "e3abfd39-442e-4703-96ad-a97c3120d362",
   "metadata": {},
   "outputs": [
    {
     "name": "stdout",
     "output_type": "stream",
     "text": [
      "The recall of our custom Naive Bayes Classifier is 88.10%\n"
     ]
    }
   ],
   "source": [
    "recall = tp / (fn + tp)\n",
    "print(f\"The recall of our custom Naive Bayes Classifier is {recall * 100:.2f}%\")"
   ]
  },
  {
   "cell_type": "code",
   "execution_count": 142,
   "id": "0bc0fe97-e7e2-4402-85e3-f433a1862d35",
   "metadata": {},
   "outputs": [
    {
     "name": "stdout",
     "output_type": "stream",
     "text": [
      "The F1-score of our custom Naive Bayes Classifier is 92.50%\n"
     ]
    }
   ],
   "source": [
    "f1_score = 2 * precision * recall / (precision + recall)\n",
    "print(f\"The F1-score of our custom Naive Bayes Classifier is {f1_score * 100:.2f}%\")"
   ]
  },
  {
   "cell_type": "markdown",
   "id": "fff6b32a-5f33-4a3f-9cd3-18ca2502ee02",
   "metadata": {},
   "source": [
    "These last few metrics highlight the worse false negative Type II error than the false positive Type I error since the recall is much lower than the precision. The F1-score provides a balanced approach and comes out to be 92.5%, which is not too bad."
   ]
  },
  {
   "cell_type": "markdown",
   "id": "023329cd-ba96-4613-ab3b-69a26802ddf5",
   "metadata": {},
   "source": [
    "To gain a deeper insight we could quickly review the messages that were incorrectly classified in our test dataset"
   ]
  },
  {
   "cell_type": "code",
   "execution_count": 144,
   "id": "9d11f08e-5cd7-4247-99ef-783cf1d7391e",
   "metadata": {},
   "outputs": [
    {
     "data": {
      "text/html": [
       "<div>\n",
       "<style scoped>\n",
       "    .dataframe tbody tr th:only-of-type {\n",
       "        vertical-align: middle;\n",
       "    }\n",
       "\n",
       "    .dataframe tbody tr th {\n",
       "        vertical-align: top;\n",
       "    }\n",
       "\n",
       "    .dataframe thead th {\n",
       "        text-align: right;\n",
       "    }\n",
       "</style>\n",
       "<table border=\"1\" class=\"dataframe\">\n",
       "  <thead>\n",
       "    <tr style=\"text-align: right;\">\n",
       "      <th></th>\n",
       "      <th>Label</th>\n",
       "      <th>SMS</th>\n",
       "      <th>Predicted</th>\n",
       "    </tr>\n",
       "  </thead>\n",
       "  <tbody>\n",
       "    <tr>\n",
       "      <th>23</th>\n",
       "      <td>ham</td>\n",
       "      <td>Anytime...</td>\n",
       "      <td>spam</td>\n",
       "    </tr>\n",
       "    <tr>\n",
       "      <th>26</th>\n",
       "      <td>spam</td>\n",
       "      <td>SMS. ac sun0819 posts HELLO:\"You seem cool, wanted to say hi. HI!!!\" Stop? Send STOP to 62468</td>\n",
       "      <td>ham</td>\n",
       "    </tr>\n",
       "    <tr>\n",
       "      <th>33</th>\n",
       "      <td>spam</td>\n",
       "      <td>Filthy stories and GIRLS waiting for your</td>\n",
       "      <td>ham</td>\n",
       "    </tr>\n",
       "    <tr>\n",
       "      <th>123</th>\n",
       "      <td>spam</td>\n",
       "      <td>Hi ya babe x u 4goten bout me?' scammers getting smart..Though this is a regular vodafone no, if you respond you get further prem rate msg/subscription. Other nos used also. Beware!</td>\n",
       "      <td>ham</td>\n",
       "    </tr>\n",
       "    <tr>\n",
       "      <th>186</th>\n",
       "      <td>spam</td>\n",
       "      <td>thesmszone.com lets you send free anonymous and masked messages..im sending this message from there..do you see the potential for abuse???</td>\n",
       "      <td>ham</td>\n",
       "    </tr>\n",
       "    <tr>\n",
       "      <th>325</th>\n",
       "      <td>spam</td>\n",
       "      <td>Do you realize that in about 40 years, we'll have thousands of old ladies running around with tattoos?</td>\n",
       "      <td>ham</td>\n",
       "    </tr>\n",
       "    <tr>\n",
       "      <th>380</th>\n",
       "      <td>ham</td>\n",
       "      <td>Finally the match heading towards draw as your prediction.</td>\n",
       "      <td>spam</td>\n",
       "    </tr>\n",
       "    <tr>\n",
       "      <th>403</th>\n",
       "      <td>spam</td>\n",
       "      <td>Did you hear about the new \"Divorce Barbie\"? It comes with all of Ken's stuff!</td>\n",
       "      <td>ham</td>\n",
       "    </tr>\n",
       "    <tr>\n",
       "      <th>407</th>\n",
       "      <td>spam</td>\n",
       "      <td>Hello darling how are you today? I would love to have a chat, why dont you tell me what you look like and what you are in to sexy?</td>\n",
       "      <td>ham</td>\n",
       "    </tr>\n",
       "    <tr>\n",
       "      <th>425</th>\n",
       "      <td>ham</td>\n",
       "      <td>No calls..messages..missed calls</td>\n",
       "      <td>spam</td>\n",
       "    </tr>\n",
       "    <tr>\n",
       "      <th>429</th>\n",
       "      <td>spam</td>\n",
       "      <td>You won't believe it but it's true. It's Incredible Txts! Reply G now to learn truly amazing things that will blow your mind. From O2FWD only 18p/txt</td>\n",
       "      <td>ham</td>\n",
       "    </tr>\n",
       "    <tr>\n",
       "      <th>609</th>\n",
       "      <td>spam</td>\n",
       "      <td>Do you ever notice that when you're driving, anyone going slower than you is an idiot and everyone driving faster than you is a maniac?</td>\n",
       "      <td>ham</td>\n",
       "    </tr>\n",
       "    <tr>\n",
       "      <th>678</th>\n",
       "      <td>spam</td>\n",
       "      <td>CALL 09090900040 &amp; LISTEN TO EXTREME DIRTY LIVE CHAT GOING ON IN THE OFFICE RIGHT NOW TOTAL PRIVACY NO ONE KNOWS YOUR [sic] LISTENING 60P MIN 24/7MP 0870753331018+</td>\n",
       "      <td>ham</td>\n",
       "    </tr>\n",
       "    <tr>\n",
       "      <th>695</th>\n",
       "      <td>spam</td>\n",
       "      <td>accordingly. I repeat, just text the word ok on your mobile phone and send</td>\n",
       "      <td>ham</td>\n",
       "    </tr>\n",
       "    <tr>\n",
       "      <th>864</th>\n",
       "      <td>spam</td>\n",
       "      <td>How come it takes so little time for a child who is afraid of the dark to become a teenager who wants to stay out all night?</td>\n",
       "      <td>ham</td>\n",
       "    </tr>\n",
       "    <tr>\n",
       "      <th>969</th>\n",
       "      <td>spam</td>\n",
       "      <td>Money i have won wining number 946 wot do i do next</td>\n",
       "      <td>ham</td>\n",
       "    </tr>\n",
       "    <tr>\n",
       "      <th>970</th>\n",
       "      <td>spam</td>\n",
       "      <td>Hi its LUCY Hubby at meetins all day Fri &amp; I will B alone at hotel U fancy cumin over? Pls leave msg 2day 09099726395 Lucy x Calls£1/minMobsmoreLKPOBOX177HP51FL</td>\n",
       "      <td>ham</td>\n",
       "    </tr>\n",
       "    <tr>\n",
       "      <th>1015</th>\n",
       "      <td>spam</td>\n",
       "      <td>Back 2 work 2morro half term over! Can U C me 2nite 4 some sexy passion B4 I have 2 go back? Chat NOW 09099726481 Luv DENA Calls £1/minMobsmoreLKPOBOX177HP51FL</td>\n",
       "      <td>ham</td>\n",
       "    </tr>\n",
       "  </tbody>\n",
       "</table>\n",
       "</div>"
      ],
      "text/plain": [
       "     Label  \\\n",
       "23     ham   \n",
       "26    spam   \n",
       "33    spam   \n",
       "123   spam   \n",
       "186   spam   \n",
       "325   spam   \n",
       "380    ham   \n",
       "403   spam   \n",
       "407   spam   \n",
       "425    ham   \n",
       "429   spam   \n",
       "609   spam   \n",
       "678   spam   \n",
       "695   spam   \n",
       "864   spam   \n",
       "969   spam   \n",
       "970   spam   \n",
       "1015  spam   \n",
       "\n",
       "                                                                                                                                                                                        SMS  \\\n",
       "23                                                                                                                                                                               Anytime...   \n",
       "26                                                                                            SMS. ac sun0819 posts HELLO:\"You seem cool, wanted to say hi. HI!!!\" Stop? Send STOP to 62468   \n",
       "33                                                                                                                                                Filthy stories and GIRLS waiting for your   \n",
       "123   Hi ya babe x u 4goten bout me?' scammers getting smart..Though this is a regular vodafone no, if you respond you get further prem rate msg/subscription. Other nos used also. Beware!   \n",
       "186                                              thesmszone.com lets you send free anonymous and masked messages..im sending this message from there..do you see the potential for abuse???   \n",
       "325                                                                                  Do you realize that in about 40 years, we'll have thousands of old ladies running around with tattoos?   \n",
       "380                                                                                                                              Finally the match heading towards draw as your prediction.   \n",
       "403                                                                                                          Did you hear about the new \"Divorce Barbie\"? It comes with all of Ken's stuff!   \n",
       "407                                                      Hello darling how are you today? I would love to have a chat, why dont you tell me what you look like and what you are in to sexy?   \n",
       "425                                                                                                                                                        No calls..messages..missed calls   \n",
       "429                                   You won't believe it but it's true. It's Incredible Txts! Reply G now to learn truly amazing things that will blow your mind. From O2FWD only 18p/txt   \n",
       "609                                                 Do you ever notice that when you're driving, anyone going slower than you is an idiot and everyone driving faster than you is a maniac?   \n",
       "678                     CALL 09090900040 & LISTEN TO EXTREME DIRTY LIVE CHAT GOING ON IN THE OFFICE RIGHT NOW TOTAL PRIVACY NO ONE KNOWS YOUR [sic] LISTENING 60P MIN 24/7MP 0870753331018+   \n",
       "695                                                                                                              accordingly. I repeat, just text the word ok on your mobile phone and send   \n",
       "864                                                            How come it takes so little time for a child who is afraid of the dark to become a teenager who wants to stay out all night?   \n",
       "969                                                                                                                                     Money i have won wining number 946 wot do i do next   \n",
       "970                        Hi its LUCY Hubby at meetins all day Fri & I will B alone at hotel U fancy cumin over? Pls leave msg 2day 09099726395 Lucy x Calls£1/minMobsmoreLKPOBOX177HP51FL   \n",
       "1015                        Back 2 work 2morro half term over! Can U C me 2nite 4 some sexy passion B4 I have 2 go back? Chat NOW 09099726481 Luv DENA Calls £1/minMobsmoreLKPOBOX177HP51FL   \n",
       "\n",
       "     Predicted  \n",
       "23        spam  \n",
       "26         ham  \n",
       "33         ham  \n",
       "123        ham  \n",
       "186        ham  \n",
       "325        ham  \n",
       "380       spam  \n",
       "403        ham  \n",
       "407        ham  \n",
       "425       spam  \n",
       "429        ham  \n",
       "609        ham  \n",
       "678        ham  \n",
       "695        ham  \n",
       "864        ham  \n",
       "969        ham  \n",
       "970        ham  \n",
       "1015       ham  "
      ]
     },
     "execution_count": 144,
     "metadata": {},
     "output_type": "execute_result"
    }
   ],
   "source": [
    "mc_test_copy[mc_test_copy[\"Label\"] != mc_test_copy[\"Predicted\"]]"
   ]
  },
  {
   "cell_type": "markdown",
   "id": "f7a38c0b-1739-4d9a-a087-7955d704b041",
   "metadata": {},
   "source": [
    "One thing that stands out is the removal of punctuation and uppercase that is sometimes very distinct for spam messages. This removes some of the easy to recognize signals for spam messages and could contribute to the high Type II error. A smarter algorithm that leaves message syntax intact might perform better."
   ]
  },
  {
   "cell_type": "markdown",
   "id": "ff56c943-1636-4091-9062-17c128eec0b2",
   "metadata": {},
   "source": [
    "Next we will compare the performance of our custom classifier to the classifier in the scikit-learn package: MultiNomialNB"
   ]
  },
  {
   "cell_type": "markdown",
   "id": "c76767cd-2b08-44c1-a11c-79fd6ae47d2f",
   "metadata": {},
   "source": [
    "## Comparing Custom Classifier Performance to MultinomialNB from Scikit-learn"
   ]
  },
  {
   "cell_type": "code",
   "execution_count": 145,
   "id": "dc36c6c4-8dca-46c2-a7c7-e17256213992",
   "metadata": {},
   "outputs": [],
   "source": [
    "from sklearn.naive_bayes import MultinomialNB"
   ]
  },
  {
   "cell_type": "code",
   "execution_count": 146,
   "id": "757062d6-0e5a-4193-9f59-5cb630530837",
   "metadata": {},
   "outputs": [],
   "source": [
    "NB = MultinomialNB(alpha=1, force_alpha=True, fit_prior=True, class_prior=None)"
   ]
  },
  {
   "cell_type": "markdown",
   "id": "3166d494-c9e7-40c0-acc1-2395f29d7d66",
   "metadata": {},
   "source": [
    "The NB classifier has now been instantiated using a similar alpha Laplace smoothing parameter and allowing the classifier to also fit and learn the prior probabilities instead of assuming an equal distribution."
   ]
  },
  {
   "cell_type": "markdown",
   "id": "2b22da4f-bed3-4b26-9d8b-9da91bdf9e71",
   "metadata": {},
   "source": [
    "Next we need to generate X_train, X_test, y_train and y_test which should be similar data as our custom classifier. We are going to use the mc_train and mc_test data for this since we want this classifier to learn the patterns itself and not go through the same data manipulation methods."
   ]
  },
  {
   "cell_type": "code",
   "execution_count": 147,
   "id": "719cae48-d115-40d4-b6ec-ea4dd10c280a",
   "metadata": {},
   "outputs": [
    {
     "data": {
      "text/html": [
       "<div>\n",
       "<style scoped>\n",
       "    .dataframe tbody tr th:only-of-type {\n",
       "        vertical-align: middle;\n",
       "    }\n",
       "\n",
       "    .dataframe tbody tr th {\n",
       "        vertical-align: top;\n",
       "    }\n",
       "\n",
       "    .dataframe thead th {\n",
       "        text-align: right;\n",
       "    }\n",
       "</style>\n",
       "<table border=\"1\" class=\"dataframe\">\n",
       "  <thead>\n",
       "    <tr style=\"text-align: right;\">\n",
       "      <th></th>\n",
       "      <th>Label</th>\n",
       "      <th>SMS</th>\n",
       "    </tr>\n",
       "  </thead>\n",
       "  <tbody>\n",
       "    <tr>\n",
       "      <th>3963</th>\n",
       "      <td>ham</td>\n",
       "      <td>Buy one egg for me da..please:)</td>\n",
       "    </tr>\n",
       "    <tr>\n",
       "      <th>2905</th>\n",
       "      <td>ham</td>\n",
       "      <td>K..k...from tomorrow onwards started ah?</td>\n",
       "    </tr>\n",
       "    <tr>\n",
       "      <th>3165</th>\n",
       "      <td>ham</td>\n",
       "      <td>Oh great. I.ll disturb him more so that we can talk.</td>\n",
       "    </tr>\n",
       "    <tr>\n",
       "      <th>3271</th>\n",
       "      <td>spam</td>\n",
       "      <td>Bloomberg -Message center +447797706009 Why wait? Apply for your future http://careers. bloomberg.com</td>\n",
       "    </tr>\n",
       "    <tr>\n",
       "      <th>2533</th>\n",
       "      <td>ham</td>\n",
       "      <td>Hi, can i please get a  &amp;lt;#&amp;gt;  dollar loan from you. I.ll pay you back by mid february. Pls.</td>\n",
       "    </tr>\n",
       "  </tbody>\n",
       "</table>\n",
       "</div>"
      ],
      "text/plain": [
       "     Label  \\\n",
       "3963   ham   \n",
       "2905   ham   \n",
       "3165   ham   \n",
       "3271  spam   \n",
       "2533   ham   \n",
       "\n",
       "                                                                                                        SMS  \n",
       "3963                                                                        Buy one egg for me da..please:)  \n",
       "2905                                                               K..k...from tomorrow onwards started ah?  \n",
       "3165                                                   Oh great. I.ll disturb him more so that we can talk.  \n",
       "3271  Bloomberg -Message center +447797706009 Why wait? Apply for your future http://careers. bloomberg.com  \n",
       "2533       Hi, can i please get a  &lt;#&gt;  dollar loan from you. I.ll pay you back by mid february. Pls.  "
      ]
     },
     "execution_count": 147,
     "metadata": {},
     "output_type": "execute_result"
    }
   ],
   "source": [
    "mc_train.head()"
   ]
  },
  {
   "cell_type": "code",
   "execution_count": 148,
   "id": "036a3e19-81cd-40a1-943a-0c52c8e8b497",
   "metadata": {},
   "outputs": [
    {
     "data": {
      "text/html": [
       "<div>\n",
       "<style scoped>\n",
       "    .dataframe tbody tr th:only-of-type {\n",
       "        vertical-align: middle;\n",
       "    }\n",
       "\n",
       "    .dataframe tbody tr th {\n",
       "        vertical-align: top;\n",
       "    }\n",
       "\n",
       "    .dataframe thead th {\n",
       "        text-align: right;\n",
       "    }\n",
       "</style>\n",
       "<table border=\"1\" class=\"dataframe\">\n",
       "  <thead>\n",
       "    <tr style=\"text-align: right;\">\n",
       "      <th></th>\n",
       "      <th>Label</th>\n",
       "      <th>SMS</th>\n",
       "    </tr>\n",
       "  </thead>\n",
       "  <tbody>\n",
       "    <tr>\n",
       "      <th>2360</th>\n",
       "      <td>ham</td>\n",
       "      <td>i cant talk to you now.i will call when i can.dont keep calling.</td>\n",
       "    </tr>\n",
       "    <tr>\n",
       "      <th>4365</th>\n",
       "      <td>spam</td>\n",
       "      <td>Customer service announcement. We recently tried to make a delivery to you but were unable to do so, please call 07099833605 to re-schedule. Ref:9280114</td>\n",
       "    </tr>\n",
       "    <tr>\n",
       "      <th>4500</th>\n",
       "      <td>ham</td>\n",
       "      <td>Im good! I have been thinking about you...</td>\n",
       "    </tr>\n",
       "    <tr>\n",
       "      <th>3916</th>\n",
       "      <td>ham</td>\n",
       "      <td>Ok... But they said i've got wisdom teeth hidden inside n mayb need 2 remove.</td>\n",
       "    </tr>\n",
       "    <tr>\n",
       "      <th>4714</th>\n",
       "      <td>ham</td>\n",
       "      <td>Hey next sun 1030 there's a basic yoga course... at bugis... We can go for that... Pilates intro next sat.... Tell me what time you r free</td>\n",
       "    </tr>\n",
       "  </tbody>\n",
       "</table>\n",
       "</div>"
      ],
      "text/plain": [
       "     Label  \\\n",
       "2360   ham   \n",
       "4365  spam   \n",
       "4500   ham   \n",
       "3916   ham   \n",
       "4714   ham   \n",
       "\n",
       "                                                                                                                                                           SMS  \n",
       "2360                                                                                          i cant talk to you now.i will call when i can.dont keep calling.  \n",
       "4365  Customer service announcement. We recently tried to make a delivery to you but were unable to do so, please call 07099833605 to re-schedule. Ref:9280114  \n",
       "4500                                                                                                                Im good! I have been thinking about you...  \n",
       "3916                                                                             Ok... But they said i've got wisdom teeth hidden inside n mayb need 2 remove.  \n",
       "4714                Hey next sun 1030 there's a basic yoga course... at bugis... We can go for that... Pilates intro next sat.... Tell me what time you r free  "
      ]
     },
     "execution_count": 148,
     "metadata": {},
     "output_type": "execute_result"
    }
   ],
   "source": [
    "mc_test.head()"
   ]
  },
  {
   "cell_type": "markdown",
   "id": "4b67507b-addb-4e10-93d0-5e6bc28a3072",
   "metadata": {},
   "source": [
    "The data clearly still has punctuation and is unaltered. Let's split the data into X and y:"
   ]
  },
  {
   "cell_type": "code",
   "execution_count": 154,
   "id": "a48cddb9-d577-42e8-bd92-0c1f4cff337a",
   "metadata": {},
   "outputs": [],
   "source": [
    "X_train = mc_train[\"SMS\"]\n",
    "X_test = mc_test[\"SMS\"]\n",
    "y_train = mc_train[\"Label\"]\n",
    "y_test = mc_test[\"Label\"]"
   ]
  },
  {
   "cell_type": "markdown",
   "id": "65639690-49f7-4dbc-8c4c-3701291bd5c1",
   "metadata": {},
   "source": [
    "The NB classifier cannot work with strings directly and so the X_training and X_testing data needs to be vectorized first. We will use a pipeline method to connect vectorization and model fitting together."
   ]
  },
  {
   "cell_type": "code",
   "execution_count": 155,
   "id": "3bf2519f-a03d-4d75-89bc-0c6be616f6d5",
   "metadata": {},
   "outputs": [],
   "source": [
    "from sklearn.feature_extraction.text import TfidfVectorizer\n",
    "from sklearn.pipeline import make_pipeline"
   ]
  },
  {
   "cell_type": "code",
   "execution_count": 156,
   "id": "f73ea0d0-b1cf-422d-9e61-0f50714041b1",
   "metadata": {},
   "outputs": [],
   "source": [
    "model = make_pipeline(TfidfVectorizer(stop_words=\"english\"), NB)"
   ]
  },
  {
   "cell_type": "markdown",
   "id": "e419ac7d-8e1c-45e7-8ac8-7b3f410691bc",
   "metadata": {},
   "source": [
    "Next we will fit our model which will vectorize the words using out-of-bag and then fit our NB model using the training data."
   ]
  },
  {
   "cell_type": "code",
   "execution_count": 157,
   "id": "82fc0c09-eadb-4596-98c3-37a502eb2fb3",
   "metadata": {},
   "outputs": [
    {
     "data": {
      "text/html": [
       "<style>#sk-container-id-1 {\n",
       "  /* Definition of color scheme common for light and dark mode */\n",
       "  --sklearn-color-text: #000;\n",
       "  --sklearn-color-text-muted: #666;\n",
       "  --sklearn-color-line: gray;\n",
       "  /* Definition of color scheme for unfitted estimators */\n",
       "  --sklearn-color-unfitted-level-0: #fff5e6;\n",
       "  --sklearn-color-unfitted-level-1: #f6e4d2;\n",
       "  --sklearn-color-unfitted-level-2: #ffe0b3;\n",
       "  --sklearn-color-unfitted-level-3: chocolate;\n",
       "  /* Definition of color scheme for fitted estimators */\n",
       "  --sklearn-color-fitted-level-0: #f0f8ff;\n",
       "  --sklearn-color-fitted-level-1: #d4ebff;\n",
       "  --sklearn-color-fitted-level-2: #b3dbfd;\n",
       "  --sklearn-color-fitted-level-3: cornflowerblue;\n",
       "\n",
       "  /* Specific color for light theme */\n",
       "  --sklearn-color-text-on-default-background: var(--sg-text-color, var(--theme-code-foreground, var(--jp-content-font-color1, black)));\n",
       "  --sklearn-color-background: var(--sg-background-color, var(--theme-background, var(--jp-layout-color0, white)));\n",
       "  --sklearn-color-border-box: var(--sg-text-color, var(--theme-code-foreground, var(--jp-content-font-color1, black)));\n",
       "  --sklearn-color-icon: #696969;\n",
       "\n",
       "  @media (prefers-color-scheme: dark) {\n",
       "    /* Redefinition of color scheme for dark theme */\n",
       "    --sklearn-color-text-on-default-background: var(--sg-text-color, var(--theme-code-foreground, var(--jp-content-font-color1, white)));\n",
       "    --sklearn-color-background: var(--sg-background-color, var(--theme-background, var(--jp-layout-color0, #111)));\n",
       "    --sklearn-color-border-box: var(--sg-text-color, var(--theme-code-foreground, var(--jp-content-font-color1, white)));\n",
       "    --sklearn-color-icon: #878787;\n",
       "  }\n",
       "}\n",
       "\n",
       "#sk-container-id-1 {\n",
       "  color: var(--sklearn-color-text);\n",
       "}\n",
       "\n",
       "#sk-container-id-1 pre {\n",
       "  padding: 0;\n",
       "}\n",
       "\n",
       "#sk-container-id-1 input.sk-hidden--visually {\n",
       "  border: 0;\n",
       "  clip: rect(1px 1px 1px 1px);\n",
       "  clip: rect(1px, 1px, 1px, 1px);\n",
       "  height: 1px;\n",
       "  margin: -1px;\n",
       "  overflow: hidden;\n",
       "  padding: 0;\n",
       "  position: absolute;\n",
       "  width: 1px;\n",
       "}\n",
       "\n",
       "#sk-container-id-1 div.sk-dashed-wrapped {\n",
       "  border: 1px dashed var(--sklearn-color-line);\n",
       "  margin: 0 0.4em 0.5em 0.4em;\n",
       "  box-sizing: border-box;\n",
       "  padding-bottom: 0.4em;\n",
       "  background-color: var(--sklearn-color-background);\n",
       "}\n",
       "\n",
       "#sk-container-id-1 div.sk-container {\n",
       "  /* jupyter's `normalize.less` sets `[hidden] { display: none; }`\n",
       "     but bootstrap.min.css set `[hidden] { display: none !important; }`\n",
       "     so we also need the `!important` here to be able to override the\n",
       "     default hidden behavior on the sphinx rendered scikit-learn.org.\n",
       "     See: https://github.com/scikit-learn/scikit-learn/issues/21755 */\n",
       "  display: inline-block !important;\n",
       "  position: relative;\n",
       "}\n",
       "\n",
       "#sk-container-id-1 div.sk-text-repr-fallback {\n",
       "  display: none;\n",
       "}\n",
       "\n",
       "div.sk-parallel-item,\n",
       "div.sk-serial,\n",
       "div.sk-item {\n",
       "  /* draw centered vertical line to link estimators */\n",
       "  background-image: linear-gradient(var(--sklearn-color-text-on-default-background), var(--sklearn-color-text-on-default-background));\n",
       "  background-size: 2px 100%;\n",
       "  background-repeat: no-repeat;\n",
       "  background-position: center center;\n",
       "}\n",
       "\n",
       "/* Parallel-specific style estimator block */\n",
       "\n",
       "#sk-container-id-1 div.sk-parallel-item::after {\n",
       "  content: \"\";\n",
       "  width: 100%;\n",
       "  border-bottom: 2px solid var(--sklearn-color-text-on-default-background);\n",
       "  flex-grow: 1;\n",
       "}\n",
       "\n",
       "#sk-container-id-1 div.sk-parallel {\n",
       "  display: flex;\n",
       "  align-items: stretch;\n",
       "  justify-content: center;\n",
       "  background-color: var(--sklearn-color-background);\n",
       "  position: relative;\n",
       "}\n",
       "\n",
       "#sk-container-id-1 div.sk-parallel-item {\n",
       "  display: flex;\n",
       "  flex-direction: column;\n",
       "}\n",
       "\n",
       "#sk-container-id-1 div.sk-parallel-item:first-child::after {\n",
       "  align-self: flex-end;\n",
       "  width: 50%;\n",
       "}\n",
       "\n",
       "#sk-container-id-1 div.sk-parallel-item:last-child::after {\n",
       "  align-self: flex-start;\n",
       "  width: 50%;\n",
       "}\n",
       "\n",
       "#sk-container-id-1 div.sk-parallel-item:only-child::after {\n",
       "  width: 0;\n",
       "}\n",
       "\n",
       "/* Serial-specific style estimator block */\n",
       "\n",
       "#sk-container-id-1 div.sk-serial {\n",
       "  display: flex;\n",
       "  flex-direction: column;\n",
       "  align-items: center;\n",
       "  background-color: var(--sklearn-color-background);\n",
       "  padding-right: 1em;\n",
       "  padding-left: 1em;\n",
       "}\n",
       "\n",
       "\n",
       "/* Toggleable style: style used for estimator/Pipeline/ColumnTransformer box that is\n",
       "clickable and can be expanded/collapsed.\n",
       "- Pipeline and ColumnTransformer use this feature and define the default style\n",
       "- Estimators will overwrite some part of the style using the `sk-estimator` class\n",
       "*/\n",
       "\n",
       "/* Pipeline and ColumnTransformer style (default) */\n",
       "\n",
       "#sk-container-id-1 div.sk-toggleable {\n",
       "  /* Default theme specific background. It is overwritten whether we have a\n",
       "  specific estimator or a Pipeline/ColumnTransformer */\n",
       "  background-color: var(--sklearn-color-background);\n",
       "}\n",
       "\n",
       "/* Toggleable label */\n",
       "#sk-container-id-1 label.sk-toggleable__label {\n",
       "  cursor: pointer;\n",
       "  display: flex;\n",
       "  width: 100%;\n",
       "  margin-bottom: 0;\n",
       "  padding: 0.5em;\n",
       "  box-sizing: border-box;\n",
       "  text-align: center;\n",
       "  align-items: start;\n",
       "  justify-content: space-between;\n",
       "  gap: 0.5em;\n",
       "}\n",
       "\n",
       "#sk-container-id-1 label.sk-toggleable__label .caption {\n",
       "  font-size: 0.6rem;\n",
       "  font-weight: lighter;\n",
       "  color: var(--sklearn-color-text-muted);\n",
       "}\n",
       "\n",
       "#sk-container-id-1 label.sk-toggleable__label-arrow:before {\n",
       "  /* Arrow on the left of the label */\n",
       "  content: \"▸\";\n",
       "  float: left;\n",
       "  margin-right: 0.25em;\n",
       "  color: var(--sklearn-color-icon);\n",
       "}\n",
       "\n",
       "#sk-container-id-1 label.sk-toggleable__label-arrow:hover:before {\n",
       "  color: var(--sklearn-color-text);\n",
       "}\n",
       "\n",
       "/* Toggleable content - dropdown */\n",
       "\n",
       "#sk-container-id-1 div.sk-toggleable__content {\n",
       "  display: none;\n",
       "  text-align: left;\n",
       "  /* unfitted */\n",
       "  background-color: var(--sklearn-color-unfitted-level-0);\n",
       "}\n",
       "\n",
       "#sk-container-id-1 div.sk-toggleable__content.fitted {\n",
       "  /* fitted */\n",
       "  background-color: var(--sklearn-color-fitted-level-0);\n",
       "}\n",
       "\n",
       "#sk-container-id-1 div.sk-toggleable__content pre {\n",
       "  margin: 0.2em;\n",
       "  border-radius: 0.25em;\n",
       "  color: var(--sklearn-color-text);\n",
       "  /* unfitted */\n",
       "  background-color: var(--sklearn-color-unfitted-level-0);\n",
       "}\n",
       "\n",
       "#sk-container-id-1 div.sk-toggleable__content.fitted pre {\n",
       "  /* unfitted */\n",
       "  background-color: var(--sklearn-color-fitted-level-0);\n",
       "}\n",
       "\n",
       "#sk-container-id-1 input.sk-toggleable__control:checked~div.sk-toggleable__content {\n",
       "  /* Expand drop-down */\n",
       "  display: block;\n",
       "  width: 100%;\n",
       "  overflow: visible;\n",
       "}\n",
       "\n",
       "#sk-container-id-1 input.sk-toggleable__control:checked~label.sk-toggleable__label-arrow:before {\n",
       "  content: \"▾\";\n",
       "}\n",
       "\n",
       "/* Pipeline/ColumnTransformer-specific style */\n",
       "\n",
       "#sk-container-id-1 div.sk-label input.sk-toggleable__control:checked~label.sk-toggleable__label {\n",
       "  color: var(--sklearn-color-text);\n",
       "  background-color: var(--sklearn-color-unfitted-level-2);\n",
       "}\n",
       "\n",
       "#sk-container-id-1 div.sk-label.fitted input.sk-toggleable__control:checked~label.sk-toggleable__label {\n",
       "  background-color: var(--sklearn-color-fitted-level-2);\n",
       "}\n",
       "\n",
       "/* Estimator-specific style */\n",
       "\n",
       "/* Colorize estimator box */\n",
       "#sk-container-id-1 div.sk-estimator input.sk-toggleable__control:checked~label.sk-toggleable__label {\n",
       "  /* unfitted */\n",
       "  background-color: var(--sklearn-color-unfitted-level-2);\n",
       "}\n",
       "\n",
       "#sk-container-id-1 div.sk-estimator.fitted input.sk-toggleable__control:checked~label.sk-toggleable__label {\n",
       "  /* fitted */\n",
       "  background-color: var(--sklearn-color-fitted-level-2);\n",
       "}\n",
       "\n",
       "#sk-container-id-1 div.sk-label label.sk-toggleable__label,\n",
       "#sk-container-id-1 div.sk-label label {\n",
       "  /* The background is the default theme color */\n",
       "  color: var(--sklearn-color-text-on-default-background);\n",
       "}\n",
       "\n",
       "/* On hover, darken the color of the background */\n",
       "#sk-container-id-1 div.sk-label:hover label.sk-toggleable__label {\n",
       "  color: var(--sklearn-color-text);\n",
       "  background-color: var(--sklearn-color-unfitted-level-2);\n",
       "}\n",
       "\n",
       "/* Label box, darken color on hover, fitted */\n",
       "#sk-container-id-1 div.sk-label.fitted:hover label.sk-toggleable__label.fitted {\n",
       "  color: var(--sklearn-color-text);\n",
       "  background-color: var(--sklearn-color-fitted-level-2);\n",
       "}\n",
       "\n",
       "/* Estimator label */\n",
       "\n",
       "#sk-container-id-1 div.sk-label label {\n",
       "  font-family: monospace;\n",
       "  font-weight: bold;\n",
       "  display: inline-block;\n",
       "  line-height: 1.2em;\n",
       "}\n",
       "\n",
       "#sk-container-id-1 div.sk-label-container {\n",
       "  text-align: center;\n",
       "}\n",
       "\n",
       "/* Estimator-specific */\n",
       "#sk-container-id-1 div.sk-estimator {\n",
       "  font-family: monospace;\n",
       "  border: 1px dotted var(--sklearn-color-border-box);\n",
       "  border-radius: 0.25em;\n",
       "  box-sizing: border-box;\n",
       "  margin-bottom: 0.5em;\n",
       "  /* unfitted */\n",
       "  background-color: var(--sklearn-color-unfitted-level-0);\n",
       "}\n",
       "\n",
       "#sk-container-id-1 div.sk-estimator.fitted {\n",
       "  /* fitted */\n",
       "  background-color: var(--sklearn-color-fitted-level-0);\n",
       "}\n",
       "\n",
       "/* on hover */\n",
       "#sk-container-id-1 div.sk-estimator:hover {\n",
       "  /* unfitted */\n",
       "  background-color: var(--sklearn-color-unfitted-level-2);\n",
       "}\n",
       "\n",
       "#sk-container-id-1 div.sk-estimator.fitted:hover {\n",
       "  /* fitted */\n",
       "  background-color: var(--sklearn-color-fitted-level-2);\n",
       "}\n",
       "\n",
       "/* Specification for estimator info (e.g. \"i\" and \"?\") */\n",
       "\n",
       "/* Common style for \"i\" and \"?\" */\n",
       "\n",
       ".sk-estimator-doc-link,\n",
       "a:link.sk-estimator-doc-link,\n",
       "a:visited.sk-estimator-doc-link {\n",
       "  float: right;\n",
       "  font-size: smaller;\n",
       "  line-height: 1em;\n",
       "  font-family: monospace;\n",
       "  background-color: var(--sklearn-color-background);\n",
       "  border-radius: 1em;\n",
       "  height: 1em;\n",
       "  width: 1em;\n",
       "  text-decoration: none !important;\n",
       "  margin-left: 0.5em;\n",
       "  text-align: center;\n",
       "  /* unfitted */\n",
       "  border: var(--sklearn-color-unfitted-level-1) 1pt solid;\n",
       "  color: var(--sklearn-color-unfitted-level-1);\n",
       "}\n",
       "\n",
       ".sk-estimator-doc-link.fitted,\n",
       "a:link.sk-estimator-doc-link.fitted,\n",
       "a:visited.sk-estimator-doc-link.fitted {\n",
       "  /* fitted */\n",
       "  border: var(--sklearn-color-fitted-level-1) 1pt solid;\n",
       "  color: var(--sklearn-color-fitted-level-1);\n",
       "}\n",
       "\n",
       "/* On hover */\n",
       "div.sk-estimator:hover .sk-estimator-doc-link:hover,\n",
       ".sk-estimator-doc-link:hover,\n",
       "div.sk-label-container:hover .sk-estimator-doc-link:hover,\n",
       ".sk-estimator-doc-link:hover {\n",
       "  /* unfitted */\n",
       "  background-color: var(--sklearn-color-unfitted-level-3);\n",
       "  color: var(--sklearn-color-background);\n",
       "  text-decoration: none;\n",
       "}\n",
       "\n",
       "div.sk-estimator.fitted:hover .sk-estimator-doc-link.fitted:hover,\n",
       ".sk-estimator-doc-link.fitted:hover,\n",
       "div.sk-label-container:hover .sk-estimator-doc-link.fitted:hover,\n",
       ".sk-estimator-doc-link.fitted:hover {\n",
       "  /* fitted */\n",
       "  background-color: var(--sklearn-color-fitted-level-3);\n",
       "  color: var(--sklearn-color-background);\n",
       "  text-decoration: none;\n",
       "}\n",
       "\n",
       "/* Span, style for the box shown on hovering the info icon */\n",
       ".sk-estimator-doc-link span {\n",
       "  display: none;\n",
       "  z-index: 9999;\n",
       "  position: relative;\n",
       "  font-weight: normal;\n",
       "  right: .2ex;\n",
       "  padding: .5ex;\n",
       "  margin: .5ex;\n",
       "  width: min-content;\n",
       "  min-width: 20ex;\n",
       "  max-width: 50ex;\n",
       "  color: var(--sklearn-color-text);\n",
       "  box-shadow: 2pt 2pt 4pt #999;\n",
       "  /* unfitted */\n",
       "  background: var(--sklearn-color-unfitted-level-0);\n",
       "  border: .5pt solid var(--sklearn-color-unfitted-level-3);\n",
       "}\n",
       "\n",
       ".sk-estimator-doc-link.fitted span {\n",
       "  /* fitted */\n",
       "  background: var(--sklearn-color-fitted-level-0);\n",
       "  border: var(--sklearn-color-fitted-level-3);\n",
       "}\n",
       "\n",
       ".sk-estimator-doc-link:hover span {\n",
       "  display: block;\n",
       "}\n",
       "\n",
       "/* \"?\"-specific style due to the `<a>` HTML tag */\n",
       "\n",
       "#sk-container-id-1 a.estimator_doc_link {\n",
       "  float: right;\n",
       "  font-size: 1rem;\n",
       "  line-height: 1em;\n",
       "  font-family: monospace;\n",
       "  background-color: var(--sklearn-color-background);\n",
       "  border-radius: 1rem;\n",
       "  height: 1rem;\n",
       "  width: 1rem;\n",
       "  text-decoration: none;\n",
       "  /* unfitted */\n",
       "  color: var(--sklearn-color-unfitted-level-1);\n",
       "  border: var(--sklearn-color-unfitted-level-1) 1pt solid;\n",
       "}\n",
       "\n",
       "#sk-container-id-1 a.estimator_doc_link.fitted {\n",
       "  /* fitted */\n",
       "  border: var(--sklearn-color-fitted-level-1) 1pt solid;\n",
       "  color: var(--sklearn-color-fitted-level-1);\n",
       "}\n",
       "\n",
       "/* On hover */\n",
       "#sk-container-id-1 a.estimator_doc_link:hover {\n",
       "  /* unfitted */\n",
       "  background-color: var(--sklearn-color-unfitted-level-3);\n",
       "  color: var(--sklearn-color-background);\n",
       "  text-decoration: none;\n",
       "}\n",
       "\n",
       "#sk-container-id-1 a.estimator_doc_link.fitted:hover {\n",
       "  /* fitted */\n",
       "  background-color: var(--sklearn-color-fitted-level-3);\n",
       "}\n",
       "\n",
       ".estimator-table summary {\n",
       "    padding: .5rem;\n",
       "    font-family: monospace;\n",
       "    cursor: pointer;\n",
       "}\n",
       "\n",
       ".estimator-table details[open] {\n",
       "    padding-left: 0.1rem;\n",
       "    padding-right: 0.1rem;\n",
       "    padding-bottom: 0.3rem;\n",
       "}\n",
       "\n",
       ".estimator-table .parameters-table {\n",
       "    margin-left: auto !important;\n",
       "    margin-right: auto !important;\n",
       "}\n",
       "\n",
       ".estimator-table .parameters-table tr:nth-child(odd) {\n",
       "    background-color: #fff;\n",
       "}\n",
       "\n",
       ".estimator-table .parameters-table tr:nth-child(even) {\n",
       "    background-color: #f6f6f6;\n",
       "}\n",
       "\n",
       ".estimator-table .parameters-table tr:hover {\n",
       "    background-color: #e0e0e0;\n",
       "}\n",
       "\n",
       ".estimator-table table td {\n",
       "    border: 1px solid rgba(106, 105, 104, 0.232);\n",
       "}\n",
       "\n",
       ".user-set td {\n",
       "    color:rgb(255, 94, 0);\n",
       "    text-align: left;\n",
       "}\n",
       "\n",
       ".user-set td.value pre {\n",
       "    color:rgb(255, 94, 0) !important;\n",
       "    background-color: transparent !important;\n",
       "}\n",
       "\n",
       ".default td {\n",
       "    color: black;\n",
       "    text-align: left;\n",
       "}\n",
       "\n",
       ".user-set td i,\n",
       ".default td i {\n",
       "    color: black;\n",
       "}\n",
       "\n",
       ".copy-paste-icon {\n",
       "    background-image: url(data:image/svg+xml;base64,PHN2ZyB4bWxucz0iaHR0cDovL3d3dy53My5vcmcvMjAwMC9zdmciIHZpZXdCb3g9IjAgMCA0NDggNTEyIj48IS0tIUZvbnQgQXdlc29tZSBGcmVlIDYuNy4yIGJ5IEBmb250YXdlc29tZSAtIGh0dHBzOi8vZm9udGF3ZXNvbWUuY29tIExpY2Vuc2UgLSBodHRwczovL2ZvbnRhd2Vzb21lLmNvbS9saWNlbnNlL2ZyZWUgQ29weXJpZ2h0IDIwMjUgRm9udGljb25zLCBJbmMuLS0+PHBhdGggZD0iTTIwOCAwTDMzMi4xIDBjMTIuNyAwIDI0LjkgNS4xIDMzLjkgMTQuMWw2Ny45IDY3LjljOSA5IDE0LjEgMjEuMiAxNC4xIDMzLjlMNDQ4IDMzNmMwIDI2LjUtMjEuNSA0OC00OCA0OGwtMTkyIDBjLTI2LjUgMC00OC0yMS41LTQ4LTQ4bDAtMjg4YzAtMjYuNSAyMS41LTQ4IDQ4LTQ4ek00OCAxMjhsODAgMCAwIDY0LTY0IDAgMCAyNTYgMTkyIDAgMC0zMiA2NCAwIDAgNDhjMCAyNi41LTIxLjUgNDgtNDggNDhMNDggNTEyYy0yNi41IDAtNDgtMjEuNS00OC00OEwwIDE3NmMwLTI2LjUgMjEuNS00OCA0OC00OHoiLz48L3N2Zz4=);\n",
       "    background-repeat: no-repeat;\n",
       "    background-size: 14px 14px;\n",
       "    background-position: 0;\n",
       "    display: inline-block;\n",
       "    width: 14px;\n",
       "    height: 14px;\n",
       "    cursor: pointer;\n",
       "}\n",
       "</style><body><div id=\"sk-container-id-1\" class=\"sk-top-container\"><div class=\"sk-text-repr-fallback\"><pre>Pipeline(steps=[(&#x27;tfidfvectorizer&#x27;, TfidfVectorizer(stop_words=&#x27;english&#x27;)),\n",
       "                (&#x27;multinomialnb&#x27;, MultinomialNB(alpha=1))])</pre><b>In a Jupyter environment, please rerun this cell to show the HTML representation or trust the notebook. <br />On GitHub, the HTML representation is unable to render, please try loading this page with nbviewer.org.</b></div><div class=\"sk-container\" hidden><div class=\"sk-item sk-dashed-wrapped\"><div class=\"sk-label-container\"><div class=\"sk-label fitted sk-toggleable\"><input class=\"sk-toggleable__control sk-hidden--visually\" id=\"sk-estimator-id-1\" type=\"checkbox\" ><label for=\"sk-estimator-id-1\" class=\"sk-toggleable__label fitted sk-toggleable__label-arrow\"><div><div>Pipeline</div></div><div><a class=\"sk-estimator-doc-link fitted\" rel=\"noreferrer\" target=\"_blank\" href=\"https://scikit-learn.org/1.7/modules/generated/sklearn.pipeline.Pipeline.html\">?<span>Documentation for Pipeline</span></a><span class=\"sk-estimator-doc-link fitted\">i<span>Fitted</span></span></div></label><div class=\"sk-toggleable__content fitted\" data-param-prefix=\"\">\n",
       "        <div class=\"estimator-table\">\n",
       "            <details>\n",
       "                <summary>Parameters</summary>\n",
       "                <table class=\"parameters-table\">\n",
       "                  <tbody>\n",
       "                    \n",
       "        <tr class=\"user-set\">\n",
       "            <td><i class=\"copy-paste-icon\"\n",
       "                 onclick=\"copyToClipboard('steps',\n",
       "                          this.parentElement.nextElementSibling)\"\n",
       "            ></i></td>\n",
       "            <td class=\"param\">steps&nbsp;</td>\n",
       "            <td class=\"value\">[(&#x27;tfidfvectorizer&#x27;, ...), (&#x27;multinomialnb&#x27;, ...)]</td>\n",
       "        </tr>\n",
       "    \n",
       "\n",
       "        <tr class=\"default\">\n",
       "            <td><i class=\"copy-paste-icon\"\n",
       "                 onclick=\"copyToClipboard('transform_input',\n",
       "                          this.parentElement.nextElementSibling)\"\n",
       "            ></i></td>\n",
       "            <td class=\"param\">transform_input&nbsp;</td>\n",
       "            <td class=\"value\">None</td>\n",
       "        </tr>\n",
       "    \n",
       "\n",
       "        <tr class=\"default\">\n",
       "            <td><i class=\"copy-paste-icon\"\n",
       "                 onclick=\"copyToClipboard('memory',\n",
       "                          this.parentElement.nextElementSibling)\"\n",
       "            ></i></td>\n",
       "            <td class=\"param\">memory&nbsp;</td>\n",
       "            <td class=\"value\">None</td>\n",
       "        </tr>\n",
       "    \n",
       "\n",
       "        <tr class=\"default\">\n",
       "            <td><i class=\"copy-paste-icon\"\n",
       "                 onclick=\"copyToClipboard('verbose',\n",
       "                          this.parentElement.nextElementSibling)\"\n",
       "            ></i></td>\n",
       "            <td class=\"param\">verbose&nbsp;</td>\n",
       "            <td class=\"value\">False</td>\n",
       "        </tr>\n",
       "    \n",
       "                  </tbody>\n",
       "                </table>\n",
       "            </details>\n",
       "        </div>\n",
       "    </div></div></div><div class=\"sk-serial\"><div class=\"sk-item\"><div class=\"sk-estimator fitted sk-toggleable\"><input class=\"sk-toggleable__control sk-hidden--visually\" id=\"sk-estimator-id-2\" type=\"checkbox\" ><label for=\"sk-estimator-id-2\" class=\"sk-toggleable__label fitted sk-toggleable__label-arrow\"><div><div>TfidfVectorizer</div></div><div><a class=\"sk-estimator-doc-link fitted\" rel=\"noreferrer\" target=\"_blank\" href=\"https://scikit-learn.org/1.7/modules/generated/sklearn.feature_extraction.text.TfidfVectorizer.html\">?<span>Documentation for TfidfVectorizer</span></a></div></label><div class=\"sk-toggleable__content fitted\" data-param-prefix=\"tfidfvectorizer__\">\n",
       "        <div class=\"estimator-table\">\n",
       "            <details>\n",
       "                <summary>Parameters</summary>\n",
       "                <table class=\"parameters-table\">\n",
       "                  <tbody>\n",
       "                    \n",
       "        <tr class=\"default\">\n",
       "            <td><i class=\"copy-paste-icon\"\n",
       "                 onclick=\"copyToClipboard('input',\n",
       "                          this.parentElement.nextElementSibling)\"\n",
       "            ></i></td>\n",
       "            <td class=\"param\">input&nbsp;</td>\n",
       "            <td class=\"value\">&#x27;content&#x27;</td>\n",
       "        </tr>\n",
       "    \n",
       "\n",
       "        <tr class=\"default\">\n",
       "            <td><i class=\"copy-paste-icon\"\n",
       "                 onclick=\"copyToClipboard('encoding',\n",
       "                          this.parentElement.nextElementSibling)\"\n",
       "            ></i></td>\n",
       "            <td class=\"param\">encoding&nbsp;</td>\n",
       "            <td class=\"value\">&#x27;utf-8&#x27;</td>\n",
       "        </tr>\n",
       "    \n",
       "\n",
       "        <tr class=\"default\">\n",
       "            <td><i class=\"copy-paste-icon\"\n",
       "                 onclick=\"copyToClipboard('decode_error',\n",
       "                          this.parentElement.nextElementSibling)\"\n",
       "            ></i></td>\n",
       "            <td class=\"param\">decode_error&nbsp;</td>\n",
       "            <td class=\"value\">&#x27;strict&#x27;</td>\n",
       "        </tr>\n",
       "    \n",
       "\n",
       "        <tr class=\"default\">\n",
       "            <td><i class=\"copy-paste-icon\"\n",
       "                 onclick=\"copyToClipboard('strip_accents',\n",
       "                          this.parentElement.nextElementSibling)\"\n",
       "            ></i></td>\n",
       "            <td class=\"param\">strip_accents&nbsp;</td>\n",
       "            <td class=\"value\">None</td>\n",
       "        </tr>\n",
       "    \n",
       "\n",
       "        <tr class=\"default\">\n",
       "            <td><i class=\"copy-paste-icon\"\n",
       "                 onclick=\"copyToClipboard('lowercase',\n",
       "                          this.parentElement.nextElementSibling)\"\n",
       "            ></i></td>\n",
       "            <td class=\"param\">lowercase&nbsp;</td>\n",
       "            <td class=\"value\">True</td>\n",
       "        </tr>\n",
       "    \n",
       "\n",
       "        <tr class=\"default\">\n",
       "            <td><i class=\"copy-paste-icon\"\n",
       "                 onclick=\"copyToClipboard('preprocessor',\n",
       "                          this.parentElement.nextElementSibling)\"\n",
       "            ></i></td>\n",
       "            <td class=\"param\">preprocessor&nbsp;</td>\n",
       "            <td class=\"value\">None</td>\n",
       "        </tr>\n",
       "    \n",
       "\n",
       "        <tr class=\"default\">\n",
       "            <td><i class=\"copy-paste-icon\"\n",
       "                 onclick=\"copyToClipboard('tokenizer',\n",
       "                          this.parentElement.nextElementSibling)\"\n",
       "            ></i></td>\n",
       "            <td class=\"param\">tokenizer&nbsp;</td>\n",
       "            <td class=\"value\">None</td>\n",
       "        </tr>\n",
       "    \n",
       "\n",
       "        <tr class=\"default\">\n",
       "            <td><i class=\"copy-paste-icon\"\n",
       "                 onclick=\"copyToClipboard('analyzer',\n",
       "                          this.parentElement.nextElementSibling)\"\n",
       "            ></i></td>\n",
       "            <td class=\"param\">analyzer&nbsp;</td>\n",
       "            <td class=\"value\">&#x27;word&#x27;</td>\n",
       "        </tr>\n",
       "    \n",
       "\n",
       "        <tr class=\"user-set\">\n",
       "            <td><i class=\"copy-paste-icon\"\n",
       "                 onclick=\"copyToClipboard('stop_words',\n",
       "                          this.parentElement.nextElementSibling)\"\n",
       "            ></i></td>\n",
       "            <td class=\"param\">stop_words&nbsp;</td>\n",
       "            <td class=\"value\">&#x27;english&#x27;</td>\n",
       "        </tr>\n",
       "    \n",
       "\n",
       "        <tr class=\"default\">\n",
       "            <td><i class=\"copy-paste-icon\"\n",
       "                 onclick=\"copyToClipboard('token_pattern',\n",
       "                          this.parentElement.nextElementSibling)\"\n",
       "            ></i></td>\n",
       "            <td class=\"param\">token_pattern&nbsp;</td>\n",
       "            <td class=\"value\">&#x27;(?u)\\\\b\\\\w\\\\w+\\\\b&#x27;</td>\n",
       "        </tr>\n",
       "    \n",
       "\n",
       "        <tr class=\"default\">\n",
       "            <td><i class=\"copy-paste-icon\"\n",
       "                 onclick=\"copyToClipboard('ngram_range',\n",
       "                          this.parentElement.nextElementSibling)\"\n",
       "            ></i></td>\n",
       "            <td class=\"param\">ngram_range&nbsp;</td>\n",
       "            <td class=\"value\">(1, ...)</td>\n",
       "        </tr>\n",
       "    \n",
       "\n",
       "        <tr class=\"default\">\n",
       "            <td><i class=\"copy-paste-icon\"\n",
       "                 onclick=\"copyToClipboard('max_df',\n",
       "                          this.parentElement.nextElementSibling)\"\n",
       "            ></i></td>\n",
       "            <td class=\"param\">max_df&nbsp;</td>\n",
       "            <td class=\"value\">1.0</td>\n",
       "        </tr>\n",
       "    \n",
       "\n",
       "        <tr class=\"default\">\n",
       "            <td><i class=\"copy-paste-icon\"\n",
       "                 onclick=\"copyToClipboard('min_df',\n",
       "                          this.parentElement.nextElementSibling)\"\n",
       "            ></i></td>\n",
       "            <td class=\"param\">min_df&nbsp;</td>\n",
       "            <td class=\"value\">1</td>\n",
       "        </tr>\n",
       "    \n",
       "\n",
       "        <tr class=\"default\">\n",
       "            <td><i class=\"copy-paste-icon\"\n",
       "                 onclick=\"copyToClipboard('max_features',\n",
       "                          this.parentElement.nextElementSibling)\"\n",
       "            ></i></td>\n",
       "            <td class=\"param\">max_features&nbsp;</td>\n",
       "            <td class=\"value\">None</td>\n",
       "        </tr>\n",
       "    \n",
       "\n",
       "        <tr class=\"default\">\n",
       "            <td><i class=\"copy-paste-icon\"\n",
       "                 onclick=\"copyToClipboard('vocabulary',\n",
       "                          this.parentElement.nextElementSibling)\"\n",
       "            ></i></td>\n",
       "            <td class=\"param\">vocabulary&nbsp;</td>\n",
       "            <td class=\"value\">None</td>\n",
       "        </tr>\n",
       "    \n",
       "\n",
       "        <tr class=\"default\">\n",
       "            <td><i class=\"copy-paste-icon\"\n",
       "                 onclick=\"copyToClipboard('binary',\n",
       "                          this.parentElement.nextElementSibling)\"\n",
       "            ></i></td>\n",
       "            <td class=\"param\">binary&nbsp;</td>\n",
       "            <td class=\"value\">False</td>\n",
       "        </tr>\n",
       "    \n",
       "\n",
       "        <tr class=\"default\">\n",
       "            <td><i class=\"copy-paste-icon\"\n",
       "                 onclick=\"copyToClipboard('dtype',\n",
       "                          this.parentElement.nextElementSibling)\"\n",
       "            ></i></td>\n",
       "            <td class=\"param\">dtype&nbsp;</td>\n",
       "            <td class=\"value\">&lt;class &#x27;numpy.float64&#x27;&gt;</td>\n",
       "        </tr>\n",
       "    \n",
       "\n",
       "        <tr class=\"default\">\n",
       "            <td><i class=\"copy-paste-icon\"\n",
       "                 onclick=\"copyToClipboard('norm',\n",
       "                          this.parentElement.nextElementSibling)\"\n",
       "            ></i></td>\n",
       "            <td class=\"param\">norm&nbsp;</td>\n",
       "            <td class=\"value\">&#x27;l2&#x27;</td>\n",
       "        </tr>\n",
       "    \n",
       "\n",
       "        <tr class=\"default\">\n",
       "            <td><i class=\"copy-paste-icon\"\n",
       "                 onclick=\"copyToClipboard('use_idf',\n",
       "                          this.parentElement.nextElementSibling)\"\n",
       "            ></i></td>\n",
       "            <td class=\"param\">use_idf&nbsp;</td>\n",
       "            <td class=\"value\">True</td>\n",
       "        </tr>\n",
       "    \n",
       "\n",
       "        <tr class=\"default\">\n",
       "            <td><i class=\"copy-paste-icon\"\n",
       "                 onclick=\"copyToClipboard('smooth_idf',\n",
       "                          this.parentElement.nextElementSibling)\"\n",
       "            ></i></td>\n",
       "            <td class=\"param\">smooth_idf&nbsp;</td>\n",
       "            <td class=\"value\">True</td>\n",
       "        </tr>\n",
       "    \n",
       "\n",
       "        <tr class=\"default\">\n",
       "            <td><i class=\"copy-paste-icon\"\n",
       "                 onclick=\"copyToClipboard('sublinear_tf',\n",
       "                          this.parentElement.nextElementSibling)\"\n",
       "            ></i></td>\n",
       "            <td class=\"param\">sublinear_tf&nbsp;</td>\n",
       "            <td class=\"value\">False</td>\n",
       "        </tr>\n",
       "    \n",
       "                  </tbody>\n",
       "                </table>\n",
       "            </details>\n",
       "        </div>\n",
       "    </div></div></div><div class=\"sk-item\"><div class=\"sk-estimator fitted sk-toggleable\"><input class=\"sk-toggleable__control sk-hidden--visually\" id=\"sk-estimator-id-3\" type=\"checkbox\" ><label for=\"sk-estimator-id-3\" class=\"sk-toggleable__label fitted sk-toggleable__label-arrow\"><div><div>MultinomialNB</div></div><div><a class=\"sk-estimator-doc-link fitted\" rel=\"noreferrer\" target=\"_blank\" href=\"https://scikit-learn.org/1.7/modules/generated/sklearn.naive_bayes.MultinomialNB.html\">?<span>Documentation for MultinomialNB</span></a></div></label><div class=\"sk-toggleable__content fitted\" data-param-prefix=\"multinomialnb__\">\n",
       "        <div class=\"estimator-table\">\n",
       "            <details>\n",
       "                <summary>Parameters</summary>\n",
       "                <table class=\"parameters-table\">\n",
       "                  <tbody>\n",
       "                    \n",
       "        <tr class=\"default\">\n",
       "            <td><i class=\"copy-paste-icon\"\n",
       "                 onclick=\"copyToClipboard('alpha',\n",
       "                          this.parentElement.nextElementSibling)\"\n",
       "            ></i></td>\n",
       "            <td class=\"param\">alpha&nbsp;</td>\n",
       "            <td class=\"value\">1</td>\n",
       "        </tr>\n",
       "    \n",
       "\n",
       "        <tr class=\"default\">\n",
       "            <td><i class=\"copy-paste-icon\"\n",
       "                 onclick=\"copyToClipboard('force_alpha',\n",
       "                          this.parentElement.nextElementSibling)\"\n",
       "            ></i></td>\n",
       "            <td class=\"param\">force_alpha&nbsp;</td>\n",
       "            <td class=\"value\">True</td>\n",
       "        </tr>\n",
       "    \n",
       "\n",
       "        <tr class=\"default\">\n",
       "            <td><i class=\"copy-paste-icon\"\n",
       "                 onclick=\"copyToClipboard('fit_prior',\n",
       "                          this.parentElement.nextElementSibling)\"\n",
       "            ></i></td>\n",
       "            <td class=\"param\">fit_prior&nbsp;</td>\n",
       "            <td class=\"value\">True</td>\n",
       "        </tr>\n",
       "    \n",
       "\n",
       "        <tr class=\"default\">\n",
       "            <td><i class=\"copy-paste-icon\"\n",
       "                 onclick=\"copyToClipboard('class_prior',\n",
       "                          this.parentElement.nextElementSibling)\"\n",
       "            ></i></td>\n",
       "            <td class=\"param\">class_prior&nbsp;</td>\n",
       "            <td class=\"value\">None</td>\n",
       "        </tr>\n",
       "    \n",
       "                  </tbody>\n",
       "                </table>\n",
       "            </details>\n",
       "        </div>\n",
       "    </div></div></div></div></div></div></div><script>function copyToClipboard(text, element) {\n",
       "    // Get the parameter prefix from the closest toggleable content\n",
       "    const toggleableContent = element.closest('.sk-toggleable__content');\n",
       "    const paramPrefix = toggleableContent ? toggleableContent.dataset.paramPrefix : '';\n",
       "    const fullParamName = paramPrefix ? `${paramPrefix}${text}` : text;\n",
       "\n",
       "    const originalStyle = element.style;\n",
       "    const computedStyle = window.getComputedStyle(element);\n",
       "    const originalWidth = computedStyle.width;\n",
       "    const originalHTML = element.innerHTML.replace('Copied!', '');\n",
       "\n",
       "    navigator.clipboard.writeText(fullParamName)\n",
       "        .then(() => {\n",
       "            element.style.width = originalWidth;\n",
       "            element.style.color = 'green';\n",
       "            element.innerHTML = \"Copied!\";\n",
       "\n",
       "            setTimeout(() => {\n",
       "                element.innerHTML = originalHTML;\n",
       "                element.style = originalStyle;\n",
       "            }, 2000);\n",
       "        })\n",
       "        .catch(err => {\n",
       "            console.error('Failed to copy:', err);\n",
       "            element.style.color = 'red';\n",
       "            element.innerHTML = \"Failed!\";\n",
       "            setTimeout(() => {\n",
       "                element.innerHTML = originalHTML;\n",
       "                element.style = originalStyle;\n",
       "            }, 2000);\n",
       "        });\n",
       "    return false;\n",
       "}\n",
       "\n",
       "document.querySelectorAll('.fa-regular.fa-copy').forEach(function(element) {\n",
       "    const toggleableContent = element.closest('.sk-toggleable__content');\n",
       "    const paramPrefix = toggleableContent ? toggleableContent.dataset.paramPrefix : '';\n",
       "    const paramName = element.parentElement.nextElementSibling.textContent.trim();\n",
       "    const fullParamName = paramPrefix ? `${paramPrefix}${paramName}` : paramName;\n",
       "\n",
       "    element.setAttribute('title', fullParamName);\n",
       "});\n",
       "</script></body>"
      ],
      "text/plain": [
       "Pipeline(steps=[('tfidfvectorizer', TfidfVectorizer(stop_words='english')),\n",
       "                ('multinomialnb', MultinomialNB(alpha=1))])"
      ]
     },
     "execution_count": 157,
     "metadata": {},
     "output_type": "execute_result"
    }
   ],
   "source": [
    "model.fit(X_train, y_train)"
   ]
  },
  {
   "cell_type": "code",
   "execution_count": 158,
   "id": "66acf83a-f9c6-4320-87fc-23c24e092f8c",
   "metadata": {},
   "outputs": [],
   "source": [
    "y_pred_NB = model.predict(X_test)"
   ]
  },
  {
   "cell_type": "code",
   "execution_count": 160,
   "id": "3d88bd34-3cc8-4ebb-ab38-7960e48132c9",
   "metadata": {},
   "outputs": [
    {
     "name": "stdout",
     "output_type": "stream",
     "text": [
      "The accuracy of the scikit-learn NB classifier is 96.23%\n"
     ]
    }
   ],
   "source": [
    "accuracy_NB = accuracy_score(y_test, y_pred_NB)\n",
    "print(f\"The accuracy of the scikit-learn NB classifier is {accuracy_NB * 100:.2f}%\")"
   ]
  },
  {
   "cell_type": "markdown",
   "id": "1b12e972-afaf-4704-aa49-4c9a526fdf04",
   "metadata": {},
   "source": [
    "The accuracy of the scikit-learn NB classifier is actually slightly lower than our custom one by about 2%! We could take a look at the recall and precision next to figure out how the Type I and Type II error compares."
   ]
  },
  {
   "cell_type": "code",
   "execution_count": 165,
   "id": "7ed5973b-9b95-436b-8ea1-32da4b92203c",
   "metadata": {},
   "outputs": [
    {
     "data": {
      "text/plain": [
       "(908, 0, 39, 87)"
      ]
     },
     "execution_count": 165,
     "metadata": {},
     "output_type": "execute_result"
    }
   ],
   "source": [
    "tn_NB, fp_NB, fn_NB, tp_NB = confusion_matrix(y_test, y_pred_NB).ravel().tolist()\n",
    "(tn_NB, fp_NB, fn_NB, tp_NB)"
   ]
  },
  {
   "cell_type": "markdown",
   "id": "7b449d0e-0948-43e5-819d-b7fa20c7d71b",
   "metadata": {},
   "source": [
    "This classifier actually has a false positive or Type I error of zero! The type II error is higher than our custom version with 39 cases misclassified as ham instead of spam."
   ]
  },
  {
   "cell_type": "markdown",
   "id": "3e3cde9f-b097-435e-9622-15c669c21e0d",
   "metadata": {},
   "source": [
    "We can review these cases again by looking at the test dataset and indexing in the rows where y_test and y_pred_NB are not equal."
   ]
  },
  {
   "cell_type": "code",
   "execution_count": 166,
   "id": "d062dd4b-ffc0-468b-b84e-2abb06568b4f",
   "metadata": {},
   "outputs": [
    {
     "data": {
      "text/html": [
       "<div>\n",
       "<style scoped>\n",
       "    .dataframe tbody tr th:only-of-type {\n",
       "        vertical-align: middle;\n",
       "    }\n",
       "\n",
       "    .dataframe tbody tr th {\n",
       "        vertical-align: top;\n",
       "    }\n",
       "\n",
       "    .dataframe thead th {\n",
       "        text-align: right;\n",
       "    }\n",
       "</style>\n",
       "<table border=\"1\" class=\"dataframe\">\n",
       "  <thead>\n",
       "    <tr style=\"text-align: right;\">\n",
       "      <th></th>\n",
       "      <th>Label</th>\n",
       "      <th>SMS</th>\n",
       "    </tr>\n",
       "  </thead>\n",
       "  <tbody>\n",
       "    <tr>\n",
       "      <th>661</th>\n",
       "      <td>spam</td>\n",
       "      <td>SMS. ac sun0819 posts HELLO:\"You seem cool, wanted to say hi. HI!!!\" Stop? Send STOP to 62468</td>\n",
       "    </tr>\n",
       "    <tr>\n",
       "      <th>935</th>\n",
       "      <td>spam</td>\n",
       "      <td>Filthy stories and GIRLS waiting for your</td>\n",
       "    </tr>\n",
       "    <tr>\n",
       "      <th>1928</th>\n",
       "      <td>spam</td>\n",
       "      <td>TheMob&gt;Yo yo yo-Here comes a new selection of hot downloads for our members to get for FREE! Just click &amp; open the next link sent to ur fone...</td>\n",
       "    </tr>\n",
       "    <tr>\n",
       "      <th>862</th>\n",
       "      <td>spam</td>\n",
       "      <td>Reminder: You have not downloaded the content you have already paid for. Goto http://doit. mymoby. tv/ to collect your content.</td>\n",
       "    </tr>\n",
       "    <tr>\n",
       "      <th>54</th>\n",
       "      <td>spam</td>\n",
       "      <td>SMS. ac Sptv: The New Jersey Devils and the Detroit Red Wings play Ice Hockey. Correct or Incorrect? End? Reply END SPTV</td>\n",
       "    </tr>\n",
       "    <tr>\n",
       "      <th>2177</th>\n",
       "      <td>spam</td>\n",
       "      <td>Not heard from U4 a while. Call 4 rude chat private line 01223585334 to cum. Wan 2C pics of me gettin shagged then text PIX to 8552. 2End send STOP 8552 SAM xxx</td>\n",
       "    </tr>\n",
       "    <tr>\n",
       "      <th>4437</th>\n",
       "      <td>spam</td>\n",
       "      <td>Cashbin.co.uk (Get lots of cash this weekend!) www.cashbin.co.uk Dear Welcome to the weekend We have got our biggest and best EVER cash give away!! These..</td>\n",
       "    </tr>\n",
       "    <tr>\n",
       "      <th>2160</th>\n",
       "      <td>spam</td>\n",
       "      <td>Hi ya babe x u 4goten bout me?' scammers getting smart..Though this is a regular vodafone no, if you respond you get further prem rate msg/subscription. Other nos used also. Beware!</td>\n",
       "    </tr>\n",
       "    <tr>\n",
       "      <th>2563</th>\n",
       "      <td>spam</td>\n",
       "      <td>New Tones This week include: 1)McFly-All Ab.., 2) Sara Jorge-Shock.. 3) Will Smith-Switch.. To order follow instructions on next message</td>\n",
       "    </tr>\n",
       "    <tr>\n",
       "      <th>798</th>\n",
       "      <td>spam</td>\n",
       "      <td>U were outbid by simonwatson5120 on the Shinco DVD Plyr. 2 bid again, visit sms. ac/smsrewards 2 end bid notifications, reply END OUT</td>\n",
       "    </tr>\n",
       "    <tr>\n",
       "      <th>2713</th>\n",
       "      <td>spam</td>\n",
       "      <td>Free-message: Jamster!Get the crazy frog sound now! For poly text MAD1, for real text MAD2 to 88888. 6 crazy sounds for just 3 GBP/week! 16+only! T&amp;C's apply</td>\n",
       "    </tr>\n",
       "    <tr>\n",
       "      <th>4025</th>\n",
       "      <td>spam</td>\n",
       "      <td>thesmszone.com lets you send free anonymous and masked messages..im sending this message from there..do you see the potential for abuse???</td>\n",
       "    </tr>\n",
       "    <tr>\n",
       "      <th>2180</th>\n",
       "      <td>spam</td>\n",
       "      <td>88066 FROM 88066 LOST 3POUND HELP</td>\n",
       "    </tr>\n",
       "    <tr>\n",
       "      <th>3752</th>\n",
       "      <td>spam</td>\n",
       "      <td>(Bank of Granite issues Strong-Buy) EXPLOSIVE PICK FOR OUR MEMBERS *****UP OVER 300% *********** Nasdaq Symbol CDGT That is a $5.00 per..</td>\n",
       "    </tr>\n",
       "    <tr>\n",
       "      <th>739</th>\n",
       "      <td>spam</td>\n",
       "      <td>Do you realize that in about 40 years, we'll have thousands of old ladies running around with tattoos?</td>\n",
       "    </tr>\n",
       "    <tr>\n",
       "      <th>2953</th>\n",
       "      <td>spam</td>\n",
       "      <td>Good Luck! Draw takes place 28th Feb 06. Good Luck! For removal send STOP to 87239 customer services 08708034412</td>\n",
       "    </tr>\n",
       "    <tr>\n",
       "      <th>649</th>\n",
       "      <td>spam</td>\n",
       "      <td>88800 and 89034 are premium phone services call 08718711108</td>\n",
       "    </tr>\n",
       "    <tr>\n",
       "      <th>68</th>\n",
       "      <td>spam</td>\n",
       "      <td>Did you hear about the new \"Divorce Barbie\"? It comes with all of Ken's stuff!</td>\n",
       "    </tr>\n",
       "    <tr>\n",
       "      <th>2546</th>\n",
       "      <td>spam</td>\n",
       "      <td>Hello darling how are you today? I would love to have a chat, why dont you tell me what you look like and what you are in to sexy?</td>\n",
       "    </tr>\n",
       "    <tr>\n",
       "      <th>3374</th>\n",
       "      <td>spam</td>\n",
       "      <td>You won't believe it but it's true. It's Incredible Txts! Reply G now to learn truly amazing things that will blow your mind. From O2FWD only 18p/txt</td>\n",
       "    </tr>\n",
       "    <tr>\n",
       "      <th>2205</th>\n",
       "      <td>spam</td>\n",
       "      <td>You have 1 new message. Please call 08718738034.</td>\n",
       "    </tr>\n",
       "    <tr>\n",
       "      <th>1589</th>\n",
       "      <td>spam</td>\n",
       "      <td>FreeMsg:Feelin kinda lnly hope u like 2 keep me company! Jst got a cam moby wanna c my pic?Txt or reply DATE to 82242 Msg150p 2rcv Hlp 08712317606 stop to 82242</td>\n",
       "    </tr>\n",
       "    <tr>\n",
       "      <th>4185</th>\n",
       "      <td>spam</td>\n",
       "      <td>Want explicit SEX in 30 secs? Ring 02073162414 now! Costs 20p/min</td>\n",
       "    </tr>\n",
       "    <tr>\n",
       "      <th>3707</th>\n",
       "      <td>spam</td>\n",
       "      <td>Free Msg: get Gnarls Barkleys \"Crazy\" ringtone TOTALLY FREE just reply GO to this message right now!</td>\n",
       "    </tr>\n",
       "    <tr>\n",
       "      <th>749</th>\n",
       "      <td>spam</td>\n",
       "      <td>Romantic Paris. 2 nights, 2 flights from £79 Book now 4 next year. Call 08704439680Ts&amp;Cs apply.</td>\n",
       "    </tr>\n",
       "    <tr>\n",
       "      <th>1572</th>\n",
       "      <td>spam</td>\n",
       "      <td>U have a secret admirer who is looking 2 make contact with U-find out who they R*reveal who thinks UR so special-call on 09058094599</td>\n",
       "    </tr>\n",
       "    <tr>\n",
       "      <th>2821</th>\n",
       "      <td>spam</td>\n",
       "      <td>Do you ever notice that when you're driving, anyone going slower than you is an idiot and everyone driving faster than you is a maniac?</td>\n",
       "    </tr>\n",
       "    <tr>\n",
       "      <th>1816</th>\n",
       "      <td>spam</td>\n",
       "      <td>U have a secret admirer who is looking 2 make contact with U-find out who they R*reveal who thinks UR so special-call on 09058094594</td>\n",
       "    </tr>\n",
       "    <tr>\n",
       "      <th>1829</th>\n",
       "      <td>spam</td>\n",
       "      <td>CALL 09090900040 &amp; LISTEN TO EXTREME DIRTY LIVE CHAT GOING ON IN THE OFFICE RIGHT NOW TOTAL PRIVACY NO ONE KNOWS YOUR [sic] LISTENING 60P MIN 24/7MP 0870753331018+</td>\n",
       "    </tr>\n",
       "    <tr>\n",
       "      <th>3980</th>\n",
       "      <td>spam</td>\n",
       "      <td>accordingly. I repeat, just text the word ok on your mobile phone and send</td>\n",
       "    </tr>\n",
       "    <tr>\n",
       "      <th>1193</th>\n",
       "      <td>spam</td>\n",
       "      <td>Reply with your name and address and YOU WILL RECEIVE BY POST a weeks completely free accommodation at various global locations www.phb1.com ph:08700435505150p</td>\n",
       "    </tr>\n",
       "    <tr>\n",
       "      <th>231</th>\n",
       "      <td>spam</td>\n",
       "      <td>Text &amp; meet someone sexy today. U can find a date or even flirt its up to U. Join 4 just 10p. REPLY with NAME &amp; AGE eg Sam 25. 18 -msg recd@thirtyeight pence</td>\n",
       "    </tr>\n",
       "    <tr>\n",
       "      <th>2646</th>\n",
       "      <td>spam</td>\n",
       "      <td>How come it takes so little time for a child who is afraid of the dark to become a teenager who wants to stay out all night?</td>\n",
       "    </tr>\n",
       "    <tr>\n",
       "      <th>4478</th>\n",
       "      <td>spam</td>\n",
       "      <td>Santa calling! Would your little ones like a call from Santa Xmas Eve? Call 09077818151 to book you time. Calls1.50ppm last 3mins 30s T&amp;C www.santacalling.com</td>\n",
       "    </tr>\n",
       "    <tr>\n",
       "      <th>4222</th>\n",
       "      <td>spam</td>\n",
       "      <td>Money i have won wining number 946 wot do i do next</td>\n",
       "    </tr>\n",
       "    <tr>\n",
       "      <th>1423</th>\n",
       "      <td>spam</td>\n",
       "      <td>Hi its LUCY Hubby at meetins all day Fri &amp; I will B alone at hotel U fancy cumin over? Pls leave msg 2day 09099726395 Lucy x Calls£1/minMobsmoreLKPOBOX177HP51FL</td>\n",
       "    </tr>\n",
       "    <tr>\n",
       "      <th>1215</th>\n",
       "      <td>spam</td>\n",
       "      <td>Please CALL 08712402779 immediately as there is an urgent message waiting for you</td>\n",
       "    </tr>\n",
       "    <tr>\n",
       "      <th>1459</th>\n",
       "      <td>spam</td>\n",
       "      <td>Thanks for the Vote. Now sing along with the stars with Karaoke on your mobile. For a FREE link just reply with SING now.</td>\n",
       "    </tr>\n",
       "    <tr>\n",
       "      <th>2161</th>\n",
       "      <td>spam</td>\n",
       "      <td>Back 2 work 2morro half term over! Can U C me 2nite 4 some sexy passion B4 I have 2 go back? Chat NOW 09099726481 Luv DENA Calls £1/minMobsmoreLKPOBOX177HP51FL</td>\n",
       "    </tr>\n",
       "  </tbody>\n",
       "</table>\n",
       "</div>"
      ],
      "text/plain": [
       "     Label  \\\n",
       "661   spam   \n",
       "935   spam   \n",
       "1928  spam   \n",
       "862   spam   \n",
       "54    spam   \n",
       "2177  spam   \n",
       "4437  spam   \n",
       "2160  spam   \n",
       "2563  spam   \n",
       "798   spam   \n",
       "2713  spam   \n",
       "4025  spam   \n",
       "2180  spam   \n",
       "3752  spam   \n",
       "739   spam   \n",
       "2953  spam   \n",
       "649   spam   \n",
       "68    spam   \n",
       "2546  spam   \n",
       "3374  spam   \n",
       "2205  spam   \n",
       "1589  spam   \n",
       "4185  spam   \n",
       "3707  spam   \n",
       "749   spam   \n",
       "1572  spam   \n",
       "2821  spam   \n",
       "1816  spam   \n",
       "1829  spam   \n",
       "3980  spam   \n",
       "1193  spam   \n",
       "231   spam   \n",
       "2646  spam   \n",
       "4478  spam   \n",
       "4222  spam   \n",
       "1423  spam   \n",
       "1215  spam   \n",
       "1459  spam   \n",
       "2161  spam   \n",
       "\n",
       "                                                                                                                                                                                        SMS  \n",
       "661                                                                                           SMS. ac sun0819 posts HELLO:\"You seem cool, wanted to say hi. HI!!!\" Stop? Send STOP to 62468  \n",
       "935                                                                                                                                               Filthy stories and GIRLS waiting for your  \n",
       "1928                                        TheMob>Yo yo yo-Here comes a new selection of hot downloads for our members to get for FREE! Just click & open the next link sent to ur fone...  \n",
       "862                                                         Reminder: You have not downloaded the content you have already paid for. Goto http://doit. mymoby. tv/ to collect your content.  \n",
       "54                                                                 SMS. ac Sptv: The New Jersey Devils and the Detroit Red Wings play Ice Hockey. Correct or Incorrect? End? Reply END SPTV  \n",
       "2177                       Not heard from U4 a while. Call 4 rude chat private line 01223585334 to cum. Wan 2C pics of me gettin shagged then text PIX to 8552. 2End send STOP 8552 SAM xxx  \n",
       "4437                            Cashbin.co.uk (Get lots of cash this weekend!) www.cashbin.co.uk Dear Welcome to the weekend We have got our biggest and best EVER cash give away!! These..  \n",
       "2160  Hi ya babe x u 4goten bout me?' scammers getting smart..Though this is a regular vodafone no, if you respond you get further prem rate msg/subscription. Other nos used also. Beware!  \n",
       "2563                                               New Tones This week include: 1)McFly-All Ab.., 2) Sara Jorge-Shock.. 3) Will Smith-Switch.. To order follow instructions on next message  \n",
       "798                                                   U were outbid by simonwatson5120 on the Shinco DVD Plyr. 2 bid again, visit sms. ac/smsrewards 2 end bid notifications, reply END OUT  \n",
       "2713                          Free-message: Jamster!Get the crazy frog sound now! For poly text MAD1, for real text MAD2 to 88888. 6 crazy sounds for just 3 GBP/week! 16+only! T&C's apply  \n",
       "4025                                             thesmszone.com lets you send free anonymous and masked messages..im sending this message from there..do you see the potential for abuse???  \n",
       "2180                                                                                                                                                      88066 FROM 88066 LOST 3POUND HELP  \n",
       "3752                                              (Bank of Granite issues Strong-Buy) EXPLOSIVE PICK FOR OUR MEMBERS *****UP OVER 300% *********** Nasdaq Symbol CDGT That is a $5.00 per..  \n",
       "739                                                                                  Do you realize that in about 40 years, we'll have thousands of old ladies running around with tattoos?  \n",
       "2953                                                                       Good Luck! Draw takes place 28th Feb 06. Good Luck! For removal send STOP to 87239 customer services 08708034412  \n",
       "649                                                                                                                             88800 and 89034 are premium phone services call 08718711108  \n",
       "68                                                                                                           Did you hear about the new \"Divorce Barbie\"? It comes with all of Ken's stuff!  \n",
       "2546                                                     Hello darling how are you today? I would love to have a chat, why dont you tell me what you look like and what you are in to sexy?  \n",
       "3374                                  You won't believe it but it's true. It's Incredible Txts! Reply G now to learn truly amazing things that will blow your mind. From O2FWD only 18p/txt  \n",
       "2205                                                                                                                                       You have 1 new message. Please call 08718738034.  \n",
       "1589                       FreeMsg:Feelin kinda lnly hope u like 2 keep me company! Jst got a cam moby wanna c my pic?Txt or reply DATE to 82242 Msg150p 2rcv Hlp 08712317606 stop to 82242  \n",
       "4185                                                                                                                      Want explicit SEX in 30 secs? Ring 02073162414 now! Costs 20p/min  \n",
       "3707                                                                                   Free Msg: get Gnarls Barkleys \"Crazy\" ringtone TOTALLY FREE just reply GO to this message right now!  \n",
       "749                                                                                         Romantic Paris. 2 nights, 2 flights from £79 Book now 4 next year. Call 08704439680Ts&Cs apply.  \n",
       "1572                                                   U have a secret admirer who is looking 2 make contact with U-find out who they R*reveal who thinks UR so special-call on 09058094599  \n",
       "2821                                                Do you ever notice that when you're driving, anyone going slower than you is an idiot and everyone driving faster than you is a maniac?  \n",
       "1816                                                   U have a secret admirer who is looking 2 make contact with U-find out who they R*reveal who thinks UR so special-call on 09058094594  \n",
       "1829                    CALL 09090900040 & LISTEN TO EXTREME DIRTY LIVE CHAT GOING ON IN THE OFFICE RIGHT NOW TOTAL PRIVACY NO ONE KNOWS YOUR [sic] LISTENING 60P MIN 24/7MP 0870753331018+  \n",
       "3980                                                                                                             accordingly. I repeat, just text the word ok on your mobile phone and send  \n",
       "1193                        Reply with your name and address and YOU WILL RECEIVE BY POST a weeks completely free accommodation at various global locations www.phb1.com ph:08700435505150p  \n",
       "231                           Text & meet someone sexy today. U can find a date or even flirt its up to U. Join 4 just 10p. REPLY with NAME & AGE eg Sam 25. 18 -msg recd@thirtyeight pence  \n",
       "2646                                                           How come it takes so little time for a child who is afraid of the dark to become a teenager who wants to stay out all night?  \n",
       "4478                         Santa calling! Would your little ones like a call from Santa Xmas Eve? Call 09077818151 to book you time. Calls1.50ppm last 3mins 30s T&C www.santacalling.com  \n",
       "4222                                                                                                                                    Money i have won wining number 946 wot do i do next  \n",
       "1423                       Hi its LUCY Hubby at meetins all day Fri & I will B alone at hotel U fancy cumin over? Pls leave msg 2day 09099726395 Lucy x Calls£1/minMobsmoreLKPOBOX177HP51FL  \n",
       "1215                                                                                                      Please CALL 08712402779 immediately as there is an urgent message waiting for you  \n",
       "1459                                                              Thanks for the Vote. Now sing along with the stars with Karaoke on your mobile. For a FREE link just reply with SING now.  \n",
       "2161                        Back 2 work 2morro half term over! Can U C me 2nite 4 some sexy passion B4 I have 2 go back? Chat NOW 09099726481 Luv DENA Calls £1/minMobsmoreLKPOBOX177HP51FL  "
      ]
     },
     "execution_count": 166,
     "metadata": {},
     "output_type": "execute_result"
    }
   ],
   "source": [
    "mc_test[y_test != y_pred_NB]"
   ]
  },
  {
   "cell_type": "markdown",
   "id": "09a2808b-8631-4f1a-b31c-4df1dfe8d8fd",
   "metadata": {},
   "source": [
    "The classifier may be improved by determining the smoothing parameter through cross-validation. Changing the size of the training and test data may also change the overall accuracy of the classifier."
   ]
  },
  {
   "cell_type": "markdown",
   "id": "71236ebd-653f-4e8d-a79d-2a15689586b4",
   "metadata": {},
   "source": [
    "The final step is to delete all of the large datasets from memory."
   ]
  },
  {
   "cell_type": "code",
   "execution_count": 167,
   "id": "f2d96660-4330-4733-9aa5-1016b8115f53",
   "metadata": {},
   "outputs": [],
   "source": [
    "del (\n",
    "    messages,\n",
    "    messages_clean,\n",
    "    mc_train,\n",
    "    mc_test,\n",
    "    mc_train_copy,\n",
    "    vocabulary,\n",
    "    word_counts_per_sms,\n",
    "    wcps,\n",
    "    mc_train_conv,\n",
    "    p_w_spams,\n",
    "    p_w_hams,\n",
    "    train_ham,\n",
    "    train_spam,\n",
    "    mc_test_copy,\n",
    "    y_true,\n",
    "    y_pred,\n",
    "    X_train,\n",
    "    X_test,\n",
    "    y_train,\n",
    "    y_test,\n",
    "    y_pred_NB\n",
    ")"
   ]
  }
 ],
 "metadata": {
  "kernelspec": {
   "display_name": "Python 3 (ipykernel)",
   "language": "python",
   "name": "python3"
  },
  "language_info": {
   "codemirror_mode": {
    "name": "ipython",
    "version": 3
   },
   "file_extension": ".py",
   "mimetype": "text/x-python",
   "name": "python",
   "nbconvert_exporter": "python",
   "pygments_lexer": "ipython3",
   "version": "3.11.9"
  }
 },
 "nbformat": 4,
 "nbformat_minor": 5
}
